{
 "cells": [
  {
   "attachments": {},
   "cell_type": "markdown",
   "metadata": {},
   "source": [
    "# Testing the xml2d class\n",
    "In this notebook we are going to be testing the xml2d class and trying to achieve the same capabilities as in the ief class.\n",
    "\n",
    "## First checking it is calling the right engine\n",
    "Here we are wanting to check that it is at least calling the right engine!"
   ]
  },
  {
   "cell_type": "code",
   "execution_count": 13,
   "metadata": {},
   "outputs": [],
   "source": [
    "# importing relevant packages\n",
    "from IPython.display import display_markdown\n",
    "from pathlib import Path\n",
    "import pandas as pd\n",
    "import numpy as np\n",
    "\n",
    "import floodmodeller_api  # imports the full package\n",
    "from floodmodeller_api import DAT, ZZN, IEF, IED, XML2D  # imports individual classes (recommended)"
   ]
  },
  {
   "cell_type": "code",
   "execution_count": 14,
   "metadata": {},
   "outputs": [],
   "source": [
    "# loading data\n",
    "test2D = r\"C:\\Users\\phillio\\FM_test_Data\\2D_test_model.xml\""
   ]
  },
  {
   "cell_type": "code",
   "execution_count": 15,
   "metadata": {},
   "outputs": [],
   "source": [
    "xml2d = XML2D(test2D)"
   ]
  },
  {
   "cell_type": "code",
   "execution_count": 16,
   "metadata": {},
   "outputs": [
    {
     "name": "stdout",
     "output_type": "stream",
     "text": [
      "Executing simulation ... \n"
     ]
    },
    {
     "name": "stderr",
     "output_type": "stream",
     "text": [
      "100%|██████████| 100/100 [12:22<00:00,  7.43s/it]\n"
     ]
    },
    {
     "name": "stdout",
     "output_type": "stream",
     "text": [
      "Exit with 100: Successful completion\n"
     ]
    }
   ],
   "source": [
    "xml2d.simulate()"
   ]
  },
  {
   "cell_type": "code",
   "execution_count": 17,
   "metadata": {},
   "outputs": [
    {
     "data": {
      "text/plain": [
       "{'_filepath': WindowsPath('C:/Users/phillio/FM_test_Data/2D_test_model.xml'),\n",
       " '_ns': '{https://www.floodmodeller.com}',\n",
       " '_xmltree': <lxml.etree._ElementTree at 0x171658250c0>,\n",
       " '_xsd': <lxml.etree._ElementTree at 0x17165822640>,\n",
       " '_xsdschema': <lxml.etree.XMLSchema at 0x17165814ef0>,\n",
       " '_multi_value_keys': {'boundary',\n",
       "  'domain',\n",
       "  'file',\n",
       "  'link',\n",
       "  'link1d',\n",
       "  'network',\n",
       "  'output',\n",
       "  'processorid',\n",
       "  'roughness',\n",
       "  'series',\n",
       "  'single',\n",
       "  'source',\n",
       "  'topography',\n",
       "  'variable'},\n",
       " '_raw_data': {'name': '2D_test_model',\n",
       "  'domain': [{'domain_id': 'Domain 1',\n",
       "    'computational_area': {'xll': 384000,\n",
       "     'yll': 237000,\n",
       "     'dx': 2,\n",
       "     'nrows': 4000,\n",
       "     'ncols': 1500,\n",
       "     'active_area': '2D Model\\\\Active_Area.shp',\n",
       "     'rotation': 0},\n",
       "    'topography': '2D Model\\\\DEM_2m.asc',\n",
       "    'time': {'timezero_datetime': {'use_real_dates': 'false',\n",
       "      'value': '00:00:00 01/01/2000'},\n",
       "     'start_offset': {'unit': 'hour', 'value': 0.0},\n",
       "     'total': {'unit': 'hour', 'value': 3.0}},\n",
       "    'run_data': {'time_step': 1,\n",
       "     'scheme': 'ADI',\n",
       "     'pulsedepth': 0.0001,\n",
       "     'negdepththreshold': -0.001,\n",
       "     'velocityheadthreshold': 0.5,\n",
       "     'frictionincreasedepth': 0.1},\n",
       "    'roughness': [{'law': 'manning', 'type': 'global', 'value': 0.1}],\n",
       "    'boundary_conditions': {'boundary': [{'BC': 'verticalflow',\n",
       "       'file': '2D Model\\\\Boundary_Line.shp',\n",
       "       'value': {'type': 'fixedvalue', 'value': 2}}]},\n",
       "    'output_results': {'hazard_debris_factor_method': {'static': {'factor': '1.0'}},\n",
       "     'output': [{'expand': '0',\n",
       "       'output_id': 'output-Domain 1',\n",
       "       'format': 'SMS9',\n",
       "       'variables': 'DepthElevationFlowVelocity',\n",
       "       'frequency': 600},\n",
       "      {'expand': '0',\n",
       "       'output_id': 'output_ascii-Domain 1',\n",
       "       'format': 'ASCII',\n",
       "       'variables': 'DepthElevationFlowVelocity',\n",
       "       'frequency': 0}],\n",
       "     'massfile': {'frequency': '60', 'value': '2D_test_modelDomain 1.csv'}}}],\n",
       "  'advanced_options': {'spatial_diagnostics': 'on',\n",
       "   'max_courant_diagnostic': 1000,\n",
       "   'diagnose_courant_adi': 8,\n",
       "   'diagnose_courant_tvd': 1,\n",
       "   'max_negativedepth_diagnostic': 1000,\n",
       "   'diagnose_negative_depth': 0,\n",
       "   'max_froude_diagnostic': 1000}},\n",
       " '_data': {'name': '2D_test_model',\n",
       "  'domain': [{'domain_id': 'Domain 1',\n",
       "    'computational_area': {'xll': 384000,\n",
       "     'yll': 237000,\n",
       "     'dx': 2,\n",
       "     'nrows': 4000,\n",
       "     'ncols': 1500,\n",
       "     'active_area': '2D Model\\\\Active_Area.shp',\n",
       "     'rotation': 0},\n",
       "    'topography': '2D Model\\\\DEM_2m.asc',\n",
       "    'time': {'timezero_datetime': {'use_real_dates': 'false',\n",
       "      'value': '00:00:00 01/01/2000'},\n",
       "     'start_offset': {'unit': 'hour', 'value': 0.0},\n",
       "     'total': {'unit': 'hour', 'value': 3.0}},\n",
       "    'run_data': {'time_step': 1,\n",
       "     'scheme': 'ADI',\n",
       "     'pulsedepth': 0.0001,\n",
       "     'negdepththreshold': -0.001,\n",
       "     'velocityheadthreshold': 0.5,\n",
       "     'frictionincreasedepth': 0.1},\n",
       "    'roughness': [{'law': 'manning', 'type': 'global', 'value': 0.1}],\n",
       "    'boundary_conditions': {'boundary': [{'BC': 'verticalflow',\n",
       "       'file': '2D Model\\\\Boundary_Line.shp',\n",
       "       'value': {'type': 'fixedvalue', 'value': 2}}]},\n",
       "    'output_results': {'hazard_debris_factor_method': {'static': {'factor': '1.0'}},\n",
       "     'output': [{'expand': '0',\n",
       "       'output_id': 'output-Domain 1',\n",
       "       'format': 'SMS9',\n",
       "       'variables': 'DepthElevationFlowVelocity',\n",
       "       'frequency': 600},\n",
       "      {'expand': '0',\n",
       "       'output_id': 'output_ascii-Domain 1',\n",
       "       'format': 'ASCII',\n",
       "       'variables': 'DepthElevationFlowVelocity',\n",
       "       'frequency': 0}],\n",
       "     'massfile': {'frequency': '60', 'value': '2D_test_modelDomain 1.csv'}}}],\n",
       "  'advanced_options': {'spatial_diagnostics': 'on',\n",
       "   'max_courant_diagnostic': 1000,\n",
       "   'diagnose_courant_adi': 8,\n",
       "   'diagnose_courant_tvd': 1,\n",
       "   'max_negativedepth_diagnostic': 1000,\n",
       "   'diagnose_negative_depth': 0,\n",
       "   'max_froude_diagnostic': 1000}},\n",
       " 'name': '2D_test_model',\n",
       " 'domains': {'Domain 1': {'domain_id': 'Domain 1',\n",
       "   'computational_area': {'xll': 384000,\n",
       "    'yll': 237000,\n",
       "    'dx': 2,\n",
       "    'nrows': 4000,\n",
       "    'ncols': 1500,\n",
       "    'active_area': '2D Model\\\\Active_Area.shp',\n",
       "    'rotation': 0},\n",
       "   'topography': '2D Model\\\\DEM_2m.asc',\n",
       "   'time': {'timezero_datetime': {'use_real_dates': 'false',\n",
       "     'value': '00:00:00 01/01/2000'},\n",
       "    'start_offset': {'unit': 'hour', 'value': 0.0},\n",
       "    'total': {'unit': 'hour', 'value': 3.0}},\n",
       "   'run_data': {'time_step': 1,\n",
       "    'scheme': 'ADI',\n",
       "    'pulsedepth': 0.0001,\n",
       "    'negdepththreshold': -0.001,\n",
       "    'velocityheadthreshold': 0.5,\n",
       "    'frictionincreasedepth': 0.1},\n",
       "   'roughness': [{'law': 'manning', 'type': 'global', 'value': 0.1}],\n",
       "   'boundary_conditions': {'boundary': [{'BC': 'verticalflow',\n",
       "      'file': '2D Model\\\\Boundary_Line.shp',\n",
       "      'value': {'type': 'fixedvalue', 'value': 2}}]},\n",
       "   'output_results': {'hazard_debris_factor_method': {'static': {'factor': '1.0'}},\n",
       "    'output': [{'expand': '0',\n",
       "      'output_id': 'output-Domain 1',\n",
       "      'format': 'SMS9',\n",
       "      'variables': 'DepthElevationFlowVelocity',\n",
       "      'frequency': 600},\n",
       "     {'expand': '0',\n",
       "      'output_id': 'output_ascii-Domain 1',\n",
       "      'format': 'ASCII',\n",
       "      'variables': 'DepthElevationFlowVelocity',\n",
       "      'frequency': 0}],\n",
       "    'massfile': {'frequency': '60', 'value': '2D_test_modelDomain 1.csv'}}}},\n",
       " 'advanced_options': {'spatial_diagnostics': 'on',\n",
       "  'max_courant_diagnostic': 1000,\n",
       "  'diagnose_courant_adi': 8,\n",
       "  'diagnose_courant_tvd': 1,\n",
       "  'max_negativedepth_diagnostic': 1000,\n",
       "  'diagnose_negative_depth': 0,\n",
       "  'max_froude_diagnostic': 1000},\n",
       " 'link1d': None,\n",
       " 'logfile': None,\n",
       " 'restart_options': None,\n",
       " 'processor': None,\n",
       " 'unit_system': None,\n",
       " 'description': None,\n",
       " '_lf': <floodmodeller_api Class: LF2(filepath=C:\\Users\\phillio\\FM_test_Data\\2D_test_model.lf2)>}"
      ]
     },
     "execution_count": 17,
     "metadata": {},
     "output_type": "execute_result"
    }
   ],
   "source": [
    "xml2d.__dict__"
   ]
  },
  {
   "cell_type": "code",
   "execution_count": 18,
   "metadata": {},
   "outputs": [
    {
     "name": "stdout",
     "output_type": "stream",
     "text": [
      "ADI\n"
     ]
    }
   ],
   "source": [
    "for dom in xml2d._raw_data['domain']:\n",
    "    print(dom['run_data']['scheme'])"
   ]
  },
  {
   "cell_type": "code",
   "execution_count": 19,
   "metadata": {},
   "outputs": [],
   "source": [
    "is_fast =True\n",
    "\n",
    "for dom in xml2d._raw_data['domain']:\n",
    "    if dom['run_data']['scheme'] != \"FAST\":\n",
    "        is_fast = False\n",
    "        break\n",
    "\n",
    "\n"
   ]
  },
  {
   "cell_type": "code",
   "execution_count": 20,
   "metadata": {},
   "outputs": [
    {
     "data": {
      "text/plain": [
       "False"
      ]
     },
     "execution_count": 20,
     "metadata": {},
     "output_type": "execute_result"
    }
   ],
   "source": [
    "is_fast"
   ]
  },
  {
   "cell_type": "code",
   "execution_count": 21,
   "metadata": {},
   "outputs": [
    {
     "data": {
      "text/plain": [
       "[{'domain_id': 'Domain 1',\n",
       "  'computational_area': {'xll': 384000,\n",
       "   'yll': 237000,\n",
       "   'dx': 2,\n",
       "   'nrows': 4000,\n",
       "   'ncols': 1500,\n",
       "   'active_area': '2D Model\\\\Active_Area.shp',\n",
       "   'rotation': 0},\n",
       "  'topography': '2D Model\\\\DEM_2m.asc',\n",
       "  'time': {'timezero_datetime': {'use_real_dates': 'false',\n",
       "    'value': '00:00:00 01/01/2000'},\n",
       "   'start_offset': {'unit': 'hour', 'value': 0.0},\n",
       "   'total': {'unit': 'hour', 'value': 3.0}},\n",
       "  'run_data': {'time_step': 1,\n",
       "   'scheme': 'ADI',\n",
       "   'pulsedepth': 0.0001,\n",
       "   'negdepththreshold': -0.001,\n",
       "   'velocityheadthreshold': 0.5,\n",
       "   'frictionincreasedepth': 0.1},\n",
       "  'roughness': [{'law': 'manning', 'type': 'global', 'value': 0.1}],\n",
       "  'boundary_conditions': {'boundary': [{'BC': 'verticalflow',\n",
       "     'file': '2D Model\\\\Boundary_Line.shp',\n",
       "     'value': {'type': 'fixedvalue', 'value': 2}}]},\n",
       "  'output_results': {'hazard_debris_factor_method': {'static': {'factor': '1.0'}},\n",
       "   'output': [{'expand': '0',\n",
       "     'output_id': 'output-Domain 1',\n",
       "     'format': 'SMS9',\n",
       "     'variables': 'DepthElevationFlowVelocity',\n",
       "     'frequency': 600},\n",
       "    {'expand': '0',\n",
       "     'output_id': 'output_ascii-Domain 1',\n",
       "     'format': 'ASCII',\n",
       "     'variables': 'DepthElevationFlowVelocity',\n",
       "     'frequency': 0}],\n",
       "   'massfile': {'frequency': '60', 'value': '2D_test_modelDomain 1.csv'}}}]"
      ]
     },
     "execution_count": 21,
     "metadata": {},
     "output_type": "execute_result"
    }
   ],
   "source": [
    "xml2d._raw_data['domain']"
   ]
  },
  {
   "cell_type": "code",
   "execution_count": null,
   "metadata": {},
   "outputs": [],
   "source": []
  }
 ],
 "metadata": {
  "kernelspec": {
   "display_name": "base",
   "language": "python",
   "name": "python3"
  },
  "language_info": {
   "codemirror_mode": {
    "name": "ipython",
    "version": 3
   },
   "file_extension": ".py",
   "mimetype": "text/x-python",
   "name": "python",
   "nbconvert_exporter": "python",
   "pygments_lexer": "ipython3",
   "version": "3.9.13 (main, Aug 25 2022, 23:51:50) [MSC v.1916 64 bit (AMD64)]"
  },
  "orig_nbformat": 4,
  "vscode": {
   "interpreter": {
    "hash": "4cc403464f8efd115cb66175fda19e9ff49db2866701853177e31ff9d0b77811"
   }
  }
 },
 "nbformat": 4,
 "nbformat_minor": 2
}

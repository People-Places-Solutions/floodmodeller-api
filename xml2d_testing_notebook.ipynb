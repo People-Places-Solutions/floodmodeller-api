{
 "cells": [
  {
   "attachments": {},
   "cell_type": "markdown",
   "metadata": {},
   "source": [
    "# Testing the xml2d class\n",
    "In this notebook we are going to be testing the xml2d class and trying to achieve the same capabilities as in the ief class.\n",
    "\n",
    "## First checking it is calling the right engine\n",
    "Here we are wanting to check that it is at least calling the right engine!"
   ]
  },
  {
   "cell_type": "code",
   "execution_count": null,
   "metadata": {},
   "outputs": [],
   "source": []
  }
 ],
 "metadata": {
  "language_info": {
   "name": "python"
  },
  "orig_nbformat": 4
 },
 "nbformat": 4,
 "nbformat_minor": 2
}

{
 "cells": [
  {
   "attachments": {},
   "cell_type": "markdown",
   "metadata": {},
   "source": [
    "<center><h1>Get started with Flood Modeller API</h1></center>\n",
    "<hr>"
   ]
  },
  {
   "attachments": {},
   "cell_type": "markdown",
   "metadata": {},
   "source": [
    "### Jupyter Notebook Basics\n",
    "Jupyter Notebook is an interactive computational environment that allows you to write and run code, and combine it with explanatory text and visualizations. In this notebook, we will walk you through the basics of how to use Jupyter Notebook to write and run code.\n",
    "\n",
    "The notebook is divided into cells, which can contain either code or text. To add a new cell, click on the \"+\" button on the toolbar. To change the cell type from code to text, click on the cell and select \"Markdown\" from the dropdown menu in the toolbar.\n",
    "\n",
    "To run a code cell, click on the cell and press \"Shift + Enter\", or simply press the small play button at the top left corner of the cell. The output of the code will be displayed below the cell. To edit a cell, simply click on it and start typing.\n",
    "\n",
    "### Starting Python\n",
    "You will need to point the notebook to the right version of python. To do this, simply look at the top right corner of the notebook. You should see a button that says \"Select Kernel\". Click on this and you'll see a list of available kernels, choose the Python one.\n",
    "\n",
    "Once you've selected the appropriate kernel, you're ready to start writing and running your code in Jupyter Notebook!\n"
   ]
  },
  {
   "attachments": {},
   "cell_type": "markdown",
   "metadata": {},
   "source": [
    "## Content \n",
    "\n",
    "1. [Python introduction](#python-introduction)    \n",
    "1.1 [Printing and operations](#printing-and-operations)   \n",
    "1.2 [Comments](#comments)   \n",
    "1.3 [Variables and comparisons](#variables-and-comparisons)   \n",
    "1.4 [Data types](#data-types)   \n",
    "1.5 [Lists and loops](#lists-and-loops)   \n",
    "\n",
    "2. [Floodmodeller API](#floodmodeller-api)   \n",
    "2.1 [DAT Class](#dat-class)   \n",
    "2.2 [IED Class](#ied-class)   \n",
    "2.3 [ZZN Class](#zzn-class)   \n",
    "2.4 [XML2D Class](#xml2d-class)   \n",
    "2.5 [IEF Class](#ief-class)   \n"
   ]
  },
  {
   "attachments": {},
   "cell_type": "markdown",
   "metadata": {},
   "source": [
    "## Python introduction \n",
    "\n",
    "Before showing some features of the Flood Modeller API, if you aren't too familiar with programing languages or python feel free to work through the following section to familiarise yourself.  \n",
    "\n",
    "We will only cover the very basics to get you started with the Flood Modeller API. If you wish to learn more about python, there are many other free (and paid) courses online to teach you, we recommend the W3school tutorial available at: https://www.w3schools.com/python/default.asp    \n",
    "\n",
    "\n",
    "Throughout this notebook, you will find more specific links to support your learning and go more in depth on certain subjects if you wish for further your learning.   \n",
    "If you are already familiar with python, feel free to skip straight to the floodmodeller - api section at the end of this notebook.\n"
   ]
  },
  {
   "attachments": {},
   "cell_type": "markdown",
   "metadata": {},
   "source": [
    "### Printing and operations\n",
    "\n",
    "One of the most important and straightforward tasks you can perform is a **print statement**.\n",
    "\n",
    "For Python to recognise text, it is defined by being held inside quotation marks. This is called a <ins>**\"string\"**</ins> in python and is a data type. We will see other types of data later in the notebook.  \n",
    "\n",
    "Below is a cell you can run which will print the text within the parentheses and enclosed in quotation marks. \n",
    "* Try running it by clicking on the cell and pressing **\"Shift + Enter\"** or by pressing the play button on the top left corner of the cell. You will see the text ` Hello, world!` is printed below the code cell as an output."
   ]
  },
  {
   "cell_type": "code",
   "execution_count": null,
   "metadata": {},
   "outputs": [],
   "source": [
    "# First print statement\n",
    "print(\"Hello, world!\")"
   ]
  },
  {
   "attachments": {},
   "cell_type": "markdown",
   "metadata": {},
   "source": [
    "* Let's check that python recognises `Hello, world!` as a string by calling type() on it. "
   ]
  },
  {
   "cell_type": "code",
   "execution_count": null,
   "metadata": {},
   "outputs": [],
   "source": [
    "# Check that type is 'str' \n",
    "type(\"Hello, world!\")"
   ]
  },
  {
   "attachments": {},
   "cell_type": "markdown",
   "metadata": {},
   "source": [
    "We can print strings of text but also we can print the result of arithmetic operations!\n",
    "Notice the difference between `print(1+3)` and `print(\"1+3\")` by running the cells below."
   ]
  },
  {
   "cell_type": "code",
   "execution_count": null,
   "metadata": {},
   "outputs": [],
   "source": [
    "# Print the result of the opporation\n",
    "print(1+3)"
   ]
  },
  {
   "cell_type": "code",
   "execution_count": null,
   "metadata": {},
   "outputs": [],
   "source": [
    "# Print the text in quotation marks\n",
    "print(\"1+3\")"
   ]
  },
  {
   "attachments": {},
   "cell_type": "markdown",
   "metadata": {},
   "source": [
    "As you can see, the first cell prints returns `4` as it recognises 1 and 3 as <ins>**integers**</ins> and + as an operation symbol. When quotation marks are used, the content of the print statement is recognised as a string and is printed as is; `1+3`\n",
    "\n",
    "The following table shows some examples of common arithmetic operations you may wish to perform: \n",
    "\n",
    "| Operation      | Symbol | Example    |\n",
    "|----------------|--------|------------|\n",
    "| Addition       | +      | 1 + 2 = 3  |\n",
    "| Subtraction    | -      | 5 - 4 = 1  |\n",
    "| Multiplication | *      | 2 * 4 = 8  |\n",
    "| Division       | /      | 6 / 3 = 2  |\n",
    "| Exponent       | **     | 3 ** 2 = 9 |\n",
    "\n",
    "Note that Python follows the order of operation of parenthesis, exponents, multiply or divide, addition and subtraction (PEDMAS)"
   ]
  },
  {
   "attachments": {},
   "cell_type": "markdown",
   "metadata": {},
   "source": [
    "To learn more about print() visit: https://www.w3schools.com/python/ref_func_print.asp   \n",
    "To learn more about type() visit: https://www.w3schools.com/python/ref_func_type.asp   \n",
    "To learn more about strings visit: https://www.w3schools.com/python/python_strings.asp    \n",
    "To learn more about integers and numbers visit: https://www.w3schools.com/python/python_numbers.asp    \n",
    "To learn more about arithmetic operators visit: https://www.w3schools.com/python/python_operators.asp    "
   ]
  },
  {
   "attachments": {},
   "cell_type": "markdown",
   "metadata": {},
   "source": [
    "### Comments\n",
    "\n",
    "You will notice comments throughout the code. These are annotations of the code to help the user understand what it does which are preceded by the pound sign (#).   \n",
    "As the complexity of code increases, annotation becomes more important not only for others, but also for yourself to remember and understand what your code does. \n",
    "\n",
    "* Try running the cell below, you will notice an error message will pop up.  \n",
    "\n",
    "* Now try running it again but add in the pound sign (#) **before** the first line of text so it looks like this: `# Multiply 3 by 2`.  \n",
    "This will comment out the first line indicating that the line is to be ignored by the computer."
   ]
  },
  {
   "cell_type": "code",
   "execution_count": null,
   "metadata": {},
   "outputs": [],
   "source": [
    "# Have a go!\n",
    " Multiply 3*2 \n",
    "\n",
    "print(3*2)"
   ]
  },
  {
   "attachments": {},
   "cell_type": "markdown",
   "metadata": {},
   "source": [
    "To learn more about comments visit: https://www.w3schools.com/python/python_comments.asp    \n",
    "To learn more about python syntax visit: https://www.w3schools.com/python/python_syntax.asp  "
   ]
  },
  {
   "attachments": {},
   "cell_type": "markdown",
   "metadata": {},
   "source": [
    "### Variables and comparisons\n",
    "\n",
    "So far we have run some arithmetic operations, used print statement, looked into comments and have used either **<ins>string**</ins> or **<ins>integer**</ins> data types. Let's now look into variables and comparisons.\n",
    "\n",
    "A variable is used to save data so we can use it again later. Let's see an example below where we have two variables which represent the size of your rectangular room in meters; `length` and `width`. Make sure you run the cell below so length and width are created as 3 and 4 respectively.  \n",
    "\n",
    "Notice how we've used a comma to split our print statement. "
   ]
  },
  {
   "cell_type": "code",
   "execution_count": null,
   "metadata": {},
   "outputs": [],
   "source": [
    "# Create variables length and width with assigned values\n",
    "length = 3\n",
    "width = 4\n",
    "\n",
    "print(\"You've just created your first two variables! Width: \", width, \"and legth: \", length)"
   ]
  },
  {
   "attachments": {},
   "cell_type": "markdown",
   "metadata": {},
   "source": [
    "When creating a variable, choose a short and descriptive name and use `=` to assign the value to the variable name. Note that variable names:\n",
    "* Can't have spaces (e.g., `new area` is not allowed)\n",
    "* Must start with either a letter or underscore (e.g., `1_length` is not allowed)\n",
    "* Can be composed **only** of letters, numbers and underscores (e.g., `length!` is not allowed)\n",
    "\n",
    "\n",
    "After assigning the values to length and width, lets calculate the area of our room by multiplying our our two variables and saving the answer as a new variable `area`. We can check the value of `Area` by calling print on it. "
   ]
  },
  {
   "cell_type": "code",
   "execution_count": null,
   "metadata": {},
   "outputs": [],
   "source": [
    "# Calculate area\n",
    "area = length * width \n",
    "\n",
    "print(area)"
   ]
  },
  {
   "attachments": {},
   "cell_type": "markdown",
   "metadata": {},
   "source": [
    "You're moving house and you want a bigger room! Your new room is square and has a side of 4m, so lets create a new variable `side` to represent this and then save your new room area as `new_area`"
   ]
  },
  {
   "cell_type": "code",
   "execution_count": null,
   "metadata": {},
   "outputs": [],
   "source": [
    "# New room side\n",
    "side = 4\n",
    "\n",
    "# New room area\n",
    "new_area = side ** 2\n",
    "\n",
    "print(new_area)"
   ]
  },
  {
   "attachments": {},
   "cell_type": "markdown",
   "metadata": {},
   "source": [
    "The following table contains the 8 comparison operations available in Python. Please note that if you wish to check if two values are the same, use `==` not `=` as a single equals. E.g.: \n",
    "* `a == 1` will check if a is equal to 1  \n",
    "* `a = 1` will set the value of a to 1 \n",
    "\n",
    "| Operation | Meaning                 |\n",
    "|-----------|-------------------------|\n",
    "| <         | strictly less than      |\n",
    "| <=        | less than or equal      |\n",
    "| >         | strictly greater than   |\n",
    "| >=        | greater than or equal   |\n",
    "| ==        | equal                   |\n",
    "| !=        | not equal               |\n",
    "| is        | object identity         |\n",
    "| is not    | negated object identity |\n",
    "\n",
    "Let's see if our new room is larger than our original room."
   ]
  },
  {
   "cell_type": "code",
   "execution_count": null,
   "metadata": {},
   "outputs": [],
   "source": [
    "# Compare the area of the new room and old room\n",
    "new_area > area"
   ]
  },
  {
   "attachments": {},
   "cell_type": "markdown",
   "metadata": {},
   "source": [
    "Notice how comparing `new_area` to `area` returns \"True\" as your new room is indeed larger than your previous area. This is a new data type (like string and integer) called a <ins>**Boolean**</ins>.  \n",
    "<ins>**Booleans**</ins> can only ever be `True` or `False` and are spelled with the first letter capitalised. The following table outlines the various boolean operations.\n",
    "\n",
    "\n",
    "| Operation | Result                               |\n",
    "|-----------|--------------------------------------|\n",
    "| x or y    | if x is true, then x, else y         |\n",
    "| x and y   | if x is false, then x, else y        |\n",
    "| not x     | if x is false, then True, else False |\n",
    "\n",
    "When you assign a new value to the same variable, the old value is overwritten, so be sure you don't need the old variable before overwriting it. Or you can name the variable something new.\n",
    "\n",
    "Turns out you made an error measuring your current room and the length is in fact 3.2 meters and the width is 5m.\n",
    "\n",
    "* Have a go in the cell below at reassigning the new values for width and length, calculating the real area of your room and then comparing this with the size of the room in your new house. "
   ]
  },
  {
   "cell_type": "code",
   "execution_count": null,
   "metadata": {},
   "outputs": [],
   "source": [
    "# Have a go here! \n",
    "# Reassign values for length and width \n",
    "length = \n",
    "width = \n",
    "\n",
    "# Calculate the area\n",
    "area = length * width \n",
    "\n",
    "# Compare old and new area \n",
    "new_area > area "
   ]
  },
  {
   "attachments": {},
   "cell_type": "markdown",
   "metadata": {},
   "source": [
    "If you've reassigned the values correctly to 3.2 and 5m, the comparison should output `False`. This is because both `area` and `new_area` are 16 square meters and `new_area` is not **strickly greater** than area. \n",
    "* Looking at the comparison operator's table can you figure out how to add in one character to the cell above and make the comparison True? "
   ]
  },
  {
   "attachments": {},
   "cell_type": "markdown",
   "metadata": {},
   "source": [
    "To learn more about variables visit: https://www.w3schools.com/python/python_variables.asp   \n",
    "To learn more about comparison and logical operators visit: https://www.w3schools.com/python/python_operators.asp "
   ]
  },
  {
   "attachments": {},
   "cell_type": "markdown",
   "metadata": {},
   "source": [
    "### Data types\n",
    "\n",
    "So far we've seen string, integer and boolean data types. When we updated the value of length to a decimal number (3.2) we created a **<ins>float**</ins> which is a numerical value with decimal places. In the following cell you can see that although `area` and `new_area` are both equal to 16, if you print `area` you will notice that it displays to one decimal place.  \n",
    "\n",
    "By checking the type we see that `area` and `new_area` are respectively a float and an interger, and if we use the `==` to check if these values are equal we notice that indeed they are (despite being different numerical types)."
   ]
  },
  {
   "cell_type": "code",
   "execution_count": null,
   "metadata": {},
   "outputs": [],
   "source": [
    "# Print the area values, check their data types and compare the values\n",
    "\n",
    "print(\"Existing area is:\", area, \" - This is a data type:\", type(area))\n",
    "print(\"New area is:\", new_area, \" - This is a data type:\", type(new_area))\n",
    "\n",
    "print(\"Are the areas equal?\", area == new_area)"
   ]
  },
  {
   "attachments": {},
   "cell_type": "markdown",
   "metadata": {},
   "source": [
    "To learn more about data types visit: https://www.w3schools.com/python/python_datatypes.asp"
   ]
  },
  {
   "attachments": {},
   "cell_type": "markdown",
   "metadata": {},
   "source": [
    "### Lists and loops\n",
    "\n",
    "Now we have the basics covered lets look into creating a list and looping through it! \n",
    "\n",
    "Lists are used to store multiple items of a single variable and are saved with the same naming convention and a single equals sign followed by the content of the list in square brackets with items separated by a comma. E.g., `list = [ item1, item2, item 3]`  \n",
    "\n",
    "Lists can be made up of any data type or a mix of data types. `list_02 = [\"string\", 1.05, True, 3]` is a list with a string, a float, a boolean and an integer.  \n",
    "\n",
    "You can access items in a list by referring to their index which starts at 0 so \"string\" can be called through `list_02[0]`\n",
    "\n",
    "Run the next cell to create a list with 5 floats, then print \"first item: \" followed by the first item in our list. Notice how we've used a comma to split some text we're printing before the item in our list."
   ]
  },
  {
   "cell_type": "code",
   "execution_count": null,
   "metadata": {},
   "outputs": [],
   "source": [
    "# Create a list called my_list containing floats \n",
    "my_list = [0.5, 1.2, 2.4, 3.6, 2.9]\n",
    "\n",
    "print(\"first item: \" , my_list[0])"
   ]
  },
  {
   "attachments": {},
   "cell_type": "markdown",
   "metadata": {},
   "source": [
    "* Have a go at calling an index value of -1. This will return the final item in the list! \n",
    "* What happens if you call a value outside of the index such as 9? How about when you call -6? (Delete this line or comment it out with a # after testing this)\n",
    "* Look at slicing a list by calling `my_list[0:3]` - This will print the first three items of the list. Remember that the first item in a list is `0`"
   ]
  },
  {
   "cell_type": "code",
   "execution_count": null,
   "metadata": {},
   "outputs": [],
   "source": [
    "# Have a go here! \n",
    "# Call -1 on my_list\n",
    "\n",
    "# Call a value outside of index. Then, comment it out with a # so the computer knows to ignore this.\n",
    "\n",
    "# Slice my_list to print just the first three items\n"
   ]
  },
  {
   "attachments": {},
   "cell_type": "markdown",
   "metadata": {},
   "source": [
    "Let's now print each item in the list by calling its index."
   ]
  },
  {
   "cell_type": "code",
   "execution_count": null,
   "metadata": {},
   "outputs": [],
   "source": [
    "print(\"first item: \" , my_list[0])\n",
    "print(\"second item: \" , my_list[1])\n",
    "print(\"third item: \" , my_list[2])\n",
    "print(\"fourth item: \" , my_list[3])\n",
    "print(\"fifth item: \" , my_list[4])"
   ]
  },
  {
   "attachments": {},
   "cell_type": "markdown",
   "metadata": {},
   "source": [
    "That was repetitive! You may be tempted to copy and paste the same line over and over again whilst updating the text and number to print each item but imagine if the list contained hundreds of items! This will be very boring, tedious and frustrating. It's also very likely that you'll eventually make mistakes too!     \n",
    "\n",
    "Let's look at looping so we can then execute a block of code repeatedly in less lines of code.  \n",
    "\n",
    "In the cell below, we loop through each item in the list using `for i in my_list`. Here `i` can be named any variable and just represents each element as it loops through."
   ]
  },
  {
   "cell_type": "code",
   "execution_count": null,
   "metadata": {},
   "outputs": [],
   "source": [
    "for i in my_list:\n",
    "    print(i)"
   ]
  },
  {
   "attachments": {},
   "cell_type": "markdown",
   "metadata": {},
   "source": [
    "To learn more about for loops visit: https://www.w3schools.com/python/python_for_loops.asp   \n",
    "To learn more about lists visit: https://www.w3schools.com/python/python_lists.asp    \n",
    "\n",
    "We have not mentioned them here but another form of looping is while loops.  \n",
    "Find out more by visiting: https://www.w3schools.com/python/python_while_loops.asp    "
   ]
  },
  {
   "attachments": {},
   "cell_type": "markdown",
   "metadata": {},
   "source": [
    "## Floodmodeller API\n",
    " \n",
    "It's essential to have some basic understanding of python programming to use the API, however a lot of capabilities are unlocked with just a fundamental understanding of python.   \n",
    "Let's load in the latest version (v 0.4.1) of Flood Modeller API and check we have the most up to date version.  \n",
    "* Run the cell below with **\"Shift + Enter\"** and check which version of the API we have loaded."
   ]
  },
  {
   "cell_type": "code",
   "execution_count": null,
   "metadata": {},
   "outputs": [],
   "source": [
    "import floodmodeller_api\n",
    "print(floodmodeller_api.__version__)"
   ]
  },
  {
   "attachments": {},
   "cell_type": "markdown",
   "metadata": {},
   "source": [
    "For more of an overview of the API please visit: https://api.floodmodeller.com/api/getting_started/overview.html "
   ]
  },
  {
   "attachments": {},
   "cell_type": "markdown",
   "metadata": {},
   "source": [
    "### DAT Class\n",
    "\n",
    "The API is broken down into various classes:  `DAT`, `IEF`, `IED`, `XML2D`, `ZZN`, `INP`, `LF1` or `LF2`.  \n",
    "\n",
    "Let's import in the `DAT` class, to work with the network file, then we will read and load the \"EX3.DAT\" file as a variable."
   ]
  },
  {
   "cell_type": "code",
   "execution_count": null,
   "metadata": {},
   "outputs": [],
   "source": [
    "from floodmodeller_api import DAT\n",
    "\n",
    "ex3_dat = DAT(\"data/EX3.DAT\")\n",
    "ex3_dat #Look at dat"
   ]
  },
  {
   "attachments": {},
   "cell_type": "markdown",
   "metadata": {},
   "source": [
    "Let's look at the general parameters inside the dat file."
   ]
  },
  {
   "cell_type": "code",
   "execution_count": null,
   "metadata": {},
   "outputs": [],
   "source": [
    "ex3_dat.general_parameters"
   ]
  },
  {
   "attachments": {},
   "cell_type": "markdown",
   "metadata": {},
   "source": [
    "Let's see what's in the network file. The various units can be accessed via the attributes \"`.sections .conduits .structures .boundaries .losses`\" This dat file only contains rivers, a bridge and two boundary units. Lets have a look at what information we have in the sections data."
   ]
  },
  {
   "cell_type": "code",
   "execution_count": null,
   "metadata": {},
   "outputs": [],
   "source": [
    "ex3_dat.sections"
   ]
  },
  {
   "cell_type": "markdown",
   "metadata": {},
   "source": [
    "We can access any one of these section units by passing its name in square brackets: "
   ]
  },
  {
   "cell_type": "code",
   "execution_count": null,
   "metadata": {},
   "outputs": [],
   "source": [
    "ex3_dat.sections[\"620\"]"
   ]
  },
  {
   "attachments": {},
   "cell_type": "markdown",
   "metadata": {},
   "source": [
    "Each individual unit class is somewhat unique in how they can be worked with in python, but generally most unit classes will have a .name, .comment and .data attribute. For example, a RIVER unit class contains the full section data as a data frame:"
   ]
  },
  {
   "cell_type": "code",
   "execution_count": null,
   "metadata": {},
   "outputs": [],
   "source": [
    "ex3_dat.sections['620'].data"
   ]
  },
  {
   "cell_type": "code",
   "execution_count": null,
   "metadata": {},
   "outputs": [],
   "source": [
    "ex3_dat.sections['620'].dist_to_next # the distance to next section for river section '620'"
   ]
  },
  {
   "attachments": {},
   "cell_type": "markdown",
   "metadata": {},
   "source": [
    "You can manipulate many different aspects of the dat file such as the data for each cross section. This information is saved in a pandas dataframe.   \n",
    "* see https://www.w3schools.com/python/pandas/default.asp for more on pandas and data frames   \n",
    "\n",
    "\n",
    "Similarly to with list slicing, we can manipulate a subsection of the data using the `.loc` method where the square brackets reference [rows, columns].   \n",
    "The following cell looks at the section data for the river unit 620 and updates the Mannings n value to 0.1 for the fourth to seventh row.  "
   ]
  },
  {
   "cell_type": "code",
   "execution_count": null,
   "metadata": {},
   "outputs": [],
   "source": [
    "ex3_dat.sections['620'].data.loc[3:6, \"Mannings n\"] = 0.1     \n",
    "ex3_dat.sections['620'].data"
   ]
  },
  {
   "attachments": {},
   "cell_type": "markdown",
   "metadata": {},
   "source": [
    "#### Walk-through excercise: Inserting a copied unit\n",
    "\n",
    "Let's explore some of the various things you can accomplish with the Flood modeller API.   \n",
    "\n",
    "Lets stick in a new cross section 10m downstream from 620 at 630.  \n",
    "We'll need to first update the distance to next at 620, create a copy of the updated 620 unit, update the name and comment of the new unit and then add it back into the dat file in the correct location."
   ]
  },
  {
   "cell_type": "code",
   "execution_count": null,
   "metadata": {},
   "outputs": [],
   "source": [
    "ex3_dat.sections['620'].dist_to_next = 10.0 # Update the distance to next section to 10m"
   ]
  },
  {
   "attachments": {},
   "cell_type": "markdown",
   "metadata": {},
   "source": [
    "We can copy objects in python and make changes to these however as we wish to create a copy of 620 and then update the information within the new 630 unit whilst keeping our original 620, a deep copy will be best as this allows our new 630 unit to be saved to a new memory location and therefore we won't be overwriting the 620 unit.  \n",
    "We can then make changes to both 630 and 620 without one affecting the other. Importing the `copy` module and calling `copy.deepcopy` will allow us to do this. "
   ]
  },
  {
   "cell_type": "code",
   "execution_count": null,
   "metadata": {},
   "outputs": [],
   "source": [
    "import copy \n",
    "\n",
    "unit_630 = copy.deepcopy(ex3_dat.sections['620']) #make a copy of the upstream node and save it as unit_630\n",
    "print(unit_630.name)"
   ]
  },
  {
   "cell_type": "code",
   "execution_count": null,
   "metadata": {},
   "outputs": [],
   "source": [
    "unit_630.name = '630' #assign the new name for our unit\n",
    "print(unit_630.name)"
   ]
  },
  {
   "cell_type": "code",
   "execution_count": null,
   "metadata": {},
   "outputs": [],
   "source": [
    "unit_630.comment = 'copy of upstream XS' #update the comment to reflect the origin of this cross section\n",
    "unit_630.comment"
   ]
  },
  {
   "cell_type": "code",
   "execution_count": null,
   "metadata": {},
   "outputs": [],
   "source": [
    "print(ex3_dat.sections['620']) #lets have a look at both units side by side to view how these differ \n",
    "print(unit_630)"
   ]
  },
  {
   "cell_type": "markdown",
   "metadata": {},
   "source": [
    "(Note that when we `print()` a unit we get the DAT file representation of that unit)"
   ]
  },
  {
   "cell_type": "code",
   "execution_count": null,
   "metadata": {},
   "outputs": [],
   "source": [
    "ex3_dat.insert_unit(unit_630, add_after = ex3_dat.sections['620']) #insert unit after 620\n"
   ]
  },
  {
   "cell_type": "code",
   "execution_count": null,
   "metadata": {},
   "outputs": [],
   "source": [
    "# check that 630 is after 640 using the 'next' method\n",
    "ex3_dat.next(ex3_dat.sections['620'])"
   ]
  },
  {
   "cell_type": "code",
   "execution_count": null,
   "metadata": {},
   "outputs": [],
   "source": [
    "# save the new dat file\n",
    "ex3_dat.save(\"data/EX3_updated.DAT\")"
   ]
  },
  {
   "attachments": {},
   "cell_type": "markdown",
   "metadata": {},
   "source": [
    "#### Using and saving your own data\n",
    "\n",
    "On the left of your screen, you should be able to see the explorer tab represented by an icon of two sheets. In here, your new file \"EX4.dat\" should have appeared under demo > data. \n",
    "\n",
    "You can also drag and drop any other file from your local machine into the relevant space within the file explorer which you can then use within this codespace. This won't make your data public, it will still be private and secure to your github account.   \n",
    "\n",
    "You can have a go at reading your own data in, make some changes and then save your updated file by `.save()` \n",
    "\n",
    "* Load your data into the file explorer on the left\n",
    "* Make some changes to your file and save them."
   ]
  },
  {
   "cell_type": "code",
   "execution_count": null,
   "metadata": {},
   "outputs": [],
   "source": [
    "# Have a go here! "
   ]
  },
  {
   "attachments": {},
   "cell_type": "markdown",
   "metadata": {},
   "source": [
    "#### Other tasks with the DAT class\n",
    "\n",
    "* Can you update the bed levels?\n",
    "* Plot a graph of the x/y data? \n",
    "* How about looking at the bridge structure? you can look into the name, comment, ds-label, us_remote_label, ds_remote_label and the subtype?\n",
    "* What is the type of the boundary units?\n"
   ]
  },
  {
   "cell_type": "code",
   "execution_count": null,
   "metadata": {},
   "outputs": [],
   "source": [
    "# Have a go here!\n"
   ]
  },
  {
   "cell_type": "markdown",
   "metadata": {},
   "source": [
    "### IED Class\n",
    "IED files can be read using the API in a very similar way to DAT files as they are essentially a collection of individual units.\n",
    "To load an IED file pass the file path into the IED class:"
   ]
  },
  {
   "cell_type": "code",
   "execution_count": null,
   "metadata": {},
   "outputs": [],
   "source": [
    "from floodmodeller_api import IED \n",
    "\n",
    "ied = IED(\"data/network.ied\")\n",
    "ied # Lets have a look\n"
   ]
  },
  {
   "cell_type": "markdown",
   "metadata": {},
   "source": [
    "Have a look at the `.boundaries` in this ied file - are you able to access the data from these units?"
   ]
  },
  {
   "cell_type": "code",
   "execution_count": null,
   "metadata": {},
   "outputs": [],
   "source": [
    "# Have a go here\n",
    "\n"
   ]
  },
  {
   "attachments": {},
   "cell_type": "markdown",
   "metadata": {},
   "source": [
    "### ZZN Class\n",
    "\n",
    "The zzn class works with 1D results files. We first import the zzn class from the API package then read in our results file.   \n",
    "Note that you will need the respective .zzl file uploaded in the same space as the zzn file to successfully be able to load your results. If you do not have the respective .zzl file for the .zzn, an error will occur highlighting this.   \n",
    "\n",
    "**Currently it is not possible to read zzn results within the GitHub codespaces as it uses a linux container whereas the API is designed to be used on Windows. For the purposes of this tutorial there are some pre-extracted data tables to show you what the ouptuts would look like** \n",
    "\n",
    "The next cell shows how you would import the ZZN class and read in results normally."
   ]
  },
  {
   "cell_type": "code",
   "execution_count": null,
   "metadata": {},
   "outputs": [],
   "source": [
    "from floodmodeller_api import ZZN\n",
    "\n",
    "zzn = ZZN(\"data/EX3.zzn\") # Will not work in Codespace environment\n",
    "# zzn.to_dataframe() # Transforms the resutls to a dataframe"
   ]
  },
  {
   "attachments": {},
   "cell_type": "markdown",
   "metadata": {},
   "source": [
    "The key function for the zzn class is the `to_dataframe()`. A data frame is a way of presenting data in a table of rows and collumns, a bit like a spreadsheet! Calling this function displays the results in a pandas dataframe.   \n",
    "For more information on pandas dataframe visit: https://www.w3schools.com/python/pandas/pandas_dataframes.asp\n",
    "\n",
    "Since we can't access the ZZN class in the codespace, let's load some prepared dataframes (don't worry too much about what we are doing here). "
   ]
  },
  {
   "cell_type": "code",
   "execution_count": null,
   "metadata": {},
   "outputs": [],
   "source": [
    "import pandas as pd\n",
    "\n",
    "all_results = pd.read_pickle(\"data/zzn_dataframe\")\n",
    "max_results = pd.read_pickle(\"data/zzn_dataframe_max\")\n",
    "flow_results = pd.read_pickle(\"data/zzn_dataframe_flow\")"
   ]
  },
  {
   "attachments": {},
   "cell_type": "markdown",
   "metadata": {},
   "source": [
    "Let's explore the results! Take a look at the three dataframes we just loaded, how do they differ?"
   ]
  },
  {
   "cell_type": "code",
   "execution_count": null,
   "metadata": {},
   "outputs": [],
   "source": [
    "# Have a look at 'all_results', 'max_results' and 'flow_results' dataframes here\n",
    "all_results\n"
   ]
  },
  {
   "attachments": {},
   "cell_type": "markdown",
   "metadata": {},
   "source": [
    "Looking at these dataframes can you: \n",
    "* List only the Stage results?  \n",
    "* Find a way to display the lowest velocity?\n",
    "* Find the time at which the maximum velocity occurs?\n",
    "\n",
    "It may be useful to look at this article on filtering pandas dataframes: https://practicaldatascience.co.uk/data-science/how-to-select-filter-and-subset-data-in-pandas-dataframes. Or also try googling things if you need!\n"
   ]
  },
  {
   "cell_type": "code",
   "execution_count": null,
   "metadata": {},
   "outputs": [],
   "source": [
    "# have a go here! \n",
    "\n"
   ]
  },
  {
   "attachments": {},
   "cell_type": "markdown",
   "metadata": {},
   "source": [
    "It may be of interest to you to plot the results, there are many different plotting libraries available in python. A common library known as `matplotlib` is built into pandas, and means you can simply call the `.plot()` method on a dataframe to return a simple plot."
   ]
  },
  {
   "cell_type": "code",
   "execution_count": null,
   "metadata": {},
   "outputs": [],
   "source": [
    "flow_results['m60'].plot()"
   ]
  },
  {
   "cell_type": "markdown",
   "metadata": {},
   "source": [
    "### XML2D Class\n",
    "The `XML2D` class is used to work with 2D model xml files. As with the DAT class, we can read and edit the components that make up the model. The documentaion for the XML2D class is here: https://api.floodmodeller.com/api/user_guide/xml2d.html\n",
    "\n",
    "Let's start by reading in the 'DefenceBreach.xml' model: "
   ]
  },
  {
   "cell_type": "code",
   "execution_count": null,
   "metadata": {},
   "outputs": [],
   "source": [
    "from floodmodeller_api import XML2D\n",
    "\n",
    "model = XML2D(\"data/DefenceBreach.xml\")\n",
    "model # let's have a look"
   ]
  },
  {
   "cell_type": "markdown",
   "metadata": {},
   "source": [
    "Once you have initialised an XML class, all the information defining the model will be stored in the following attributes (some of these attributes may not be present in the xml file and will therefore return None):\n",
    "- `.name` - 2D Model name\n",
    "- `.link1d` - A list of 1 or more 1D links, each containing a dictionary of parameters including the link shapefile and ief file.\n",
    "- `.logfil`e - Location of model log\n",
    "- `.domains` - A dictionary of model domains, with each domain_id as the keys. Each model domain is then a nested dictionary of categories and values.\n",
    "- `.restart_options`\n",
    "- `.advanced_options`\n",
    "- `.processor`\n",
    "- `.unit_system`\n",
    "- `.description`"
   ]
  },
  {
   "cell_type": "code",
   "execution_count": null,
   "metadata": {},
   "outputs": [],
   "source": [
    "model.name # The model name"
   ]
  },
  {
   "cell_type": "markdown",
   "metadata": {},
   "source": [
    "In this model we have 1 domain called \"River 10m\". We can look into all the elements of the domain using nested labels."
   ]
  },
  {
   "cell_type": "code",
   "execution_count": null,
   "metadata": {},
   "outputs": [],
   "source": [
    "model.domains[\"River 10m\"][\"computational_area\"]"
   ]
  },
  {
   "cell_type": "markdown",
   "metadata": {},
   "source": [
    "We can edit elements and save the model like with the DAT file"
   ]
  },
  {
   "cell_type": "code",
   "execution_count": null,
   "metadata": {},
   "outputs": [],
   "source": [
    "# Point the active area to a new file \n",
    "model.domains[\"River 10m\"][\"computational_area\"][\"active_area\"] = \"new_active_area.shp\"\n",
    "model.domains[\"River 10m\"][\"computational_area\"]"
   ]
  },
  {
   "cell_type": "markdown",
   "metadata": {},
   "source": [
    "Also like the DAT class, we are able to update the model inplace using `.update()` or we can `.save()` it to a new file."
   ]
  },
  {
   "cell_type": "code",
   "execution_count": null,
   "metadata": {},
   "outputs": [],
   "source": [
    "model.save(\"data/DefenceBreach_new-active-area.xml\")"
   ]
  },
  {
   "cell_type": "markdown",
   "metadata": {},
   "source": [
    "Let's have a go at adding a new boundary condition. Currently there is just the one verticalflow boundary:"
   ]
  },
  {
   "cell_type": "code",
   "execution_count": null,
   "metadata": {},
   "outputs": [],
   "source": [
    "model.domains[\"River 10m\"][\"boundary_conditions\"][\"boundary\"]"
   ]
  },
  {
   "cell_type": "code",
   "execution_count": null,
   "metadata": {},
   "outputs": [],
   "source": [
    "model.domains[\"River 10m\"][\"boundary_conditions\"][\"boundary\"].append(\n",
    "    {\n",
    "        'BC': \"qhbdy\",\n",
    "        \"file\": [\"some_file.shp\"],\n",
    "        \"value\": {\n",
    "            \"time_units\": \"hour\",\n",
    "            \"type\": \"csv\",\n",
    "            \"value\": \"some_data.csv\"\n",
    "        }\n",
    "    }\n",
    ")\n",
    "model.update()"
   ]
  },
  {
   "cell_type": "markdown",
   "metadata": {},
   "source": [
    "Notice that we used `.append()` to add a new boundary as is added to a list of 1 or more boundaries. There are many different parameters which can be set in a 2D model. All of these are able to be read via the XML2D class if they appear in the xml file. Within each main attribute, the naming and structure of options is consistent with the structure in the xml file itself. In cases where an option has just a single value, the value and option name will appear as a key-pair in the dictionary. In cases where an option has attributes as well as a value, the attributes will also appear, and the value will be accessible through the ‘value’ key."
   ]
  },
  {
   "cell_type": "markdown",
   "metadata": {},
   "source": [
    "### IEF Class\n",
    "\n",
    "IEF files are relatively straightforward to work with in the API. All of the attributes in the IEF file will be exposed as attributes in the class, and can be added, deleted and updated. The documentation for the IEF class can be found here: https://api.floodmodeller.com/api/user_guide/ief.html. \n",
    "\n",
    "Let's read in the ex3.ief file and look at some attributes:"
   ]
  },
  {
   "cell_type": "code",
   "execution_count": null,
   "metadata": {},
   "outputs": [],
   "source": [
    "from floodmodeller_api import IEF\n",
    "\n",
    "ief = IEF(\"data/ex3.ief\")\n",
    "ief"
   ]
  },
  {
   "cell_type": "code",
   "execution_count": null,
   "metadata": {},
   "outputs": [],
   "source": [
    "ief.datafile"
   ]
  },
  {
   "cell_type": "code",
   "execution_count": null,
   "metadata": {},
   "outputs": [],
   "source": [
    "print(\"starts at:\", ief.start, \"finishes at:\", ief.finish)"
   ]
  },
  {
   "cell_type": "markdown",
   "metadata": {},
   "source": [
    "This IEF file doesn't currently point to a separate eventdata (IED). If you run ief.eventdata it will throw an error. Instead let's add a reference to an IED file and save it."
   ]
  },
  {
   "cell_type": "code",
   "execution_count": null,
   "metadata": {},
   "outputs": [],
   "source": [
    "ief.eventdata = {\n",
    "    'MainInflow' : 'Q100.IED' # Doesn't actually exist\n",
    "}\n",
    "ief.save(\"data/ex3_Q100.ief\")"
   ]
  },
  {
   "cell_type": "markdown",
   "metadata": {},
   "source": [
    "What about if we wanted to do this in a loop for a range of IED files? Run the code below and look at all the new files appearing in the demo > data folder."
   ]
  },
  {
   "cell_type": "code",
   "execution_count": null,
   "metadata": {},
   "outputs": [],
   "source": [
    "for event in [\"Q2\", \"Q5\", \"Q10\", \"Q20\", \"Q50\", \"Q75\", \"Q100\", \"Q1000\"]:\n",
    "    ief.eventdata[\"MainInflow\"] = f\"{event}.ief\"  # This is using an 'f-string' which is a neat way to format strings\n",
    "    ief.save(f\"data/ex3_{event}.ief\")"
   ]
  },
  {
   "cell_type": "code",
   "execution_count": null,
   "metadata": {},
   "outputs": [],
   "source": [
    "# Have a go at accessing and updating some attributes\n",
    "\n",
    "# Have a go at generating a bunch of new ief files using a loop \n"
   ]
  },
  {
   "cell_type": "markdown",
   "metadata": {},
   "source": [
    "Although it won't work in this codespace environment, when using the API on a machine with access to Flood Modeller and a license, you can set a simulation going simply by calling `.simulate()` on the ief."
   ]
  },
  {
   "cell_type": "code",
   "execution_count": null,
   "metadata": {},
   "outputs": [],
   "source": [
    "ief.simulate() # Won't work in codespaces :("
   ]
  },
  {
   "cell_type": "markdown",
   "metadata": {},
   "source": [
    "If we have run the simulation however, we can easily access the results using the `.get_results` method, which should return a ZZN class object if the results exist. **Reminder: this won't currently work in the codespace environment**"
   ]
  },
  {
   "cell_type": "code",
   "execution_count": null,
   "metadata": {},
   "outputs": [],
   "source": [
    "\"\"\"\n",
    "zzn = ief.get_results()\n",
    "zzn.to_dataframe() # This is familiar!\n",
    "\"\"\""
   ]
  },
  {
   "cell_type": "markdown",
   "metadata": {},
   "source": [
    "Once you have got used to working with the API, there are lots of things you can start to do. Take a look at the user guide to see all the available classes and functions: https://api.floodmodeller.com/api/user_guide/index.html\n",
    "\n",
    "At this point you may want to be a bit more ambitious and start writing some of your own scripts. Have a go at creating a new python file in the demo folder called \"<some_file_name>.py\" and start writing some code! You can run a script by clicking the 'play' button at the top right of the window."
   ]
  }
 ],
 "metadata": {
  "interpreter": {
   "hash": "49a32060a57323e9ef679be0ecfadd57584b7456d4a32c5313fe1ca2e35fa46c"
  },
  "kernelspec": {
   "display_name": "Python 3.9.5 ('fmapi')",
   "language": "python",
   "name": "python3"
  },
  "language_info": {
   "codemirror_mode": {
    "name": "ipython",
    "version": 3
   },
   "file_extension": ".py",
   "mimetype": "text/x-python",
   "name": "python",
   "nbconvert_exporter": "python",
   "pygments_lexer": "ipython3",
   "version": "3.9.5"
  },
  "orig_nbformat": 4,
  "vscode": {
   "interpreter": {
    "hash": "969e6a634f736d42dd195af11f0b94d0537b8d2b35fe68298e3b384d9719896b"
   }
  }
 },
 "nbformat": 4,
 "nbformat_minor": 2
}

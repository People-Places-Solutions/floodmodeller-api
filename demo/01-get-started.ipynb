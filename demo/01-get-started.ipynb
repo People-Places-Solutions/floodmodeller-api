{
 "cells": [
  {
   "attachments": {},
   "cell_type": "markdown",
   "metadata": {},
   "source": [
    "# Get Started!\n",
    "<hr>"
   ]
  },
  {
   "attachments": {},
   "cell_type": "markdown",
   "metadata": {},
   "source": [
    "## Jupyter Notebook Basics\n",
    "Jupyter Notebook is an interactive computational environment that allows you to write and run code, and combine it with explanatory text and visualizations. In this notebook, we will walk you through the basics of how to use Jupyter Notebook to write and run code.\n",
    "\n",
    "The notebook is divided into cells, which can contain either code or text. To add a new cell, click on the \"+\" button on the toolbar. To change the cell type from code to text, click on the cell and select \"Markdown\" from the dropdown menu in the toolbar.\n",
    "\n",
    "To run a code cell, click on the cell and press \"Shift + Enter\". The output of the code will be displayed below the cell. To edit a cell, simply click on it and start typing.\n",
    "\n",
    "## Starting Python\n",
    "You may need to point the notebook to the right version of python. To do this, simply look at the top right corner of the notebook. You should see a dropdown menu that says \"Kernel\". Click on this menu, and you'll see a list of available kernels, choose the Python one.\n",
    "\n",
    "Once you've selected the appropriate kernel, you're ready to start writing and running your code in Jupyter Notebook!\n"
   ]
  },
  {
   "attachments": {},
   "cell_type": "markdown",
   "metadata": {},
   "source": [
    "## Python introduction \n",
    "\n",
    "Before showing some features of the FloodModeller API, if you aren't too familiar with programing languages or python feel free to work through the following section to familiarise yourself!\n"
   ]
  },
  {
   "cell_type": "markdown",
   "metadata": {},
   "source": [
    "\n",
    "\n",
    "### Printing and operations\n",
    "\n",
    "One of the most important and straightforward tasks you can perform is a **print statement**.\n",
    "\n",
    "Below is a cell you can run which will print the text within the parenthese and enclosed in quotation marks. Text is refered to as a  <ins>**\"string\"**</ins> in python and is defined by the quotation marks at it's beginning and end.\n",
    "Try running it by clicking on the cell and pressing **\"Shift + Enter\"** or by pressing the play button on the top left corner of the cell. You will see the text   ` Hello, world!` printed below the code cell as an output."
   ]
  },
  {
   "cell_type": "code",
   "execution_count": 28,
   "metadata": {},
   "outputs": [
    {
     "name": "stdout",
     "output_type": "stream",
     "text": [
      "Hello, world!\n"
     ]
    }
   ],
   "source": [
    "# First print statement\n",
    "print(\"Hello, world!\")"
   ]
  },
  {
   "attachments": {},
   "cell_type": "markdown",
   "metadata": {},
   "source": [
    "We can print strings of text but also we can print the result of arithmetic operations!\n",
    "Notice the difference between `print(1+3)` and `print(\"1+3\")` by running the cells below."
   ]
  },
  {
   "cell_type": "code",
   "execution_count": 29,
   "metadata": {},
   "outputs": [
    {
     "name": "stdout",
     "output_type": "stream",
     "text": [
      "4\n"
     ]
    }
   ],
   "source": [
    "# Print the result of the opporation\n",
    "print(1+3)"
   ]
  },
  {
   "cell_type": "code",
   "execution_count": 30,
   "metadata": {},
   "outputs": [
    {
     "name": "stdout",
     "output_type": "stream",
     "text": [
      "1+3\n"
     ]
    }
   ],
   "source": [
    "# Print the text in quotation marks\n",
    "print(\"1+3\")"
   ]
  },
  {
   "attachments": {},
   "cell_type": "markdown",
   "metadata": {},
   "source": [
    "As you can see, the first cell prints returns `4` as it recognises 1 and 3 as <ins>**integers**</ins> and + as an opperation symbol. When quotation marks are used, the content of the print statement is recognised as a string and is printed as is; `1+3`\n",
    "\n",
    "The following table shows some examples of common opporations you may wish to perform: \n",
    "\n",
    "| Operation      | Symbol | Example    |\n",
    "|----------------|--------|------------|\n",
    "| Addition       | +      | 1 + 2 = 3  |\n",
    "| Subtraction    | -      | 5 - 4 = 1  |\n",
    "| Multiplication | *      | 2 * 4 = 8  |\n",
    "| Division       | /      | 6 / 3 = 2  |\n",
    "| Exponent       | **     | 3 ** 2 = 9 |\n",
    "\n",
    "Note that Python follows order of operation of parenthesis, exponents, multiply or divide, addition and substraction (PEDMAS)"
   ]
  },
  {
   "attachments": {},
   "cell_type": "markdown",
   "metadata": {},
   "source": [
    "### Comments\n",
    "\n",
    "You will notice comments throughout code. These are annotations of the code to help the user understand what it does which are preceded by the pound sign (#). As complexity of code increases, annotation becomes more important not only for others, but also for yourself to remember and understand what your code does. \n",
    "\n",
    "* Try running the cell below, you will notice an error message will pop up. Now try running it again but add in the pound sign (#) **before** the first line of text so it looks like this:\n",
    "`# Multiply 3 by 2`. \n",
    "This will comment out the first line indicating that the line is to be ignored by the computer. "
   ]
  },
  {
   "cell_type": "code",
   "execution_count": 32,
   "metadata": {},
   "outputs": [
    {
     "ename": "SyntaxError",
     "evalue": "invalid syntax (1395938231.py, line 1)",
     "output_type": "error",
     "traceback": [
      "\u001b[1;36m  Cell \u001b[1;32mIn [32], line 1\u001b[1;36m\u001b[0m\n\u001b[1;33m    Multiply 3*2\u001b[0m\n\u001b[1;37m             ^\u001b[0m\n\u001b[1;31mSyntaxError\u001b[0m\u001b[1;31m:\u001b[0m invalid syntax\n"
     ]
    }
   ],
   "source": [
    " Multiply 3*2 \n",
    "\n",
    "print(3*2)"
   ]
  },
  {
   "attachments": {},
   "cell_type": "markdown",
   "metadata": {},
   "source": [
    "### Variables and comparisons\n",
    "\n",
    "So far we have ran some arithmetic operations, used print statement, looked into comments and had used either **<ins>string**</ins> or **<ins>integer**</ins> data types. Let's now look into variables and comparisons.\n",
    "\n",
    "A variable is used to save data so we can use it again later. Let's see an example below where we have two variables which represents the size of your rectangular room in meters; `length` and `width`. Make sure you run the cell below so length and width are created as 3 and 4 respectively."
   ]
  },
  {
   "cell_type": "code",
   "execution_count": 33,
   "metadata": {},
   "outputs": [
    {
     "name": "stdout",
     "output_type": "stream",
     "text": [
      "You've just created your first two variables!\n"
     ]
    }
   ],
   "source": [
    "# create variables length and width with assigned values\n",
    "length = 3\n",
    "width = 4\n",
    "\n",
    "print(\"You've just created your first two variables!\")"
   ]
  },
  {
   "attachments": {},
   "cell_type": "markdown",
   "metadata": {},
   "source": [
    "When creating a variable, choose a short and descriptive name and use `=` to asign the value to the variable name. Note that variable names:\n",
    "* Can't have spaces (e.g., `new area` is not allowed)\n",
    "* Must start with either a letter or underscore (e.g., `1_length` is not allowed)\n",
    "* Can be composed only of letters, numbers and underscores (e.g., `length!` is not allowed)\n",
    "\n",
    "\n",
    "After assigning the values to length and width, lets calculate the area of our room by multiplying our our two variables and saving the answer as a new variable `area`. We can check the value of `Area` by calling print on it. "
   ]
  },
  {
   "cell_type": "code",
   "execution_count": 34,
   "metadata": {},
   "outputs": [
    {
     "name": "stdout",
     "output_type": "stream",
     "text": [
      "12\n"
     ]
    }
   ],
   "source": [
    "# Calculate area\n",
    "area = length * width \n",
    "\n",
    "print(area)"
   ]
  },
  {
   "attachments": {},
   "cell_type": "markdown",
   "metadata": {},
   "source": [
    "You're moving house and you want a bigger room! Your new room is square and has a side of 4m so lets create a new variable `side` to represent this and then save your new rooms area as `new_area`"
   ]
  },
  {
   "cell_type": "code",
   "execution_count": 35,
   "metadata": {},
   "outputs": [
    {
     "name": "stdout",
     "output_type": "stream",
     "text": [
      "16\n"
     ]
    }
   ],
   "source": [
    "# new room side\n",
    "side = 4\n",
    "\n",
    "# new room area\n",
    "new_area = side ** 2\n",
    "\n",
    "print(new_area)"
   ]
  },
  {
   "attachments": {},
   "cell_type": "markdown",
   "metadata": {},
   "source": [
    "The following table contains the 8 comparison operations available in Python. Please note that if you wish to check if two values are the same, use `==` not `=` as a single equals. e.g.: \n",
    "* `a == 1` will check if a is equal to 1  \n",
    "* `a = 1` will set the value of a to 1 \n",
    "\n",
    "| Operation | Meaning                 |\n",
    "|-----------|-------------------------|\n",
    "| <         | strictly less than      |\n",
    "| <=        | less than or equal      |\n",
    "| >         | strictly greater than   |\n",
    "| >=        | greater than or equal   |\n",
    "| ==        | equal                   |\n",
    "| !=        | not equal               |\n",
    "| is        | object identity         |\n",
    "| is not    | negated object identity |\n",
    "\n",
    "Let's see if our new room is larger than our original room."
   ]
  },
  {
   "cell_type": "code",
   "execution_count": 42,
   "metadata": {},
   "outputs": [
    {
     "name": "stdout",
     "output_type": "stream",
     "text": [
      "False\n",
      "<class 'bool'>\n"
     ]
    }
   ],
   "source": [
    "print(new_area > area) \n",
    "print(type(new_area > area)) # prints the data type"
   ]
  },
  {
   "attachments": {},
   "cell_type": "markdown",
   "metadata": {},
   "source": [
    "Notice how comparing `new_area` to `area` retuns \"True\" as your new room is indeed larger than your previous area. This is a new data type (like string and integer) called a <ins>**Boolean**</ins>. Booleans can only ever be `True` or `False` and are spelt with the first letter capitalised. The following table outlines the various boolean operations.\n",
    "\n",
    "\n",
    "| Operation | Result                               |\n",
    "|-----------|--------------------------------------|\n",
    "| x or y    | if x is true, then x, else y         |\n",
    "| x and y   | if x is false, then x, else y        |\n",
    "| not x     | if x is false, then True, else False |"
   ]
  },
  {
   "attachments": {},
   "cell_type": "markdown",
   "metadata": {},
   "source": [
    " \n",
    "\n",
    "When you assign a new value to the same variable, the old value is overwritten so be sure you don't need the old variable before overwriting it or name the variable something new.\n",
    "\n",
    "Turns out you made an error measuring your current room and the length is in fact 3.2 meters and the width is 5m.\n",
    "\n",
    "* Have a go in the cell below at reassigning the new values for width and length, calculating the real area of your room and then comparing this with the sixe of the room in your new house. "
   ]
  },
  {
   "cell_type": "code",
   "execution_count": 40,
   "metadata": {},
   "outputs": [
    {
     "data": {
      "text/plain": [
       "False"
      ]
     },
     "execution_count": 40,
     "metadata": {},
     "output_type": "execute_result"
    }
   ],
   "source": [
    "# Reassign values for length and width \n",
    "length = \n",
    "width = \n",
    "\n",
    "# Calculate the area\n",
    "area = length * width \n",
    "\n",
    "# Compare old and new area \n",
    "new_area > area "
   ]
  },
  {
   "attachments": {},
   "cell_type": "markdown",
   "metadata": {},
   "source": [
    "If you've reassigned the values correctly to 3.2 and 5m, the comparison should output `False`. This is because both `area` and `new_area` are 16 square meters and `new_area` is not **strickly greater** than area. \n",
    "* Looking at the comparison table can you figure out how to add in one character to the cell above and make the comparison True? "
   ]
  },
  {
   "attachments": {},
   "cell_type": "markdown",
   "metadata": {},
   "source": [
    "One final thing! So far we've seen string, integer and boolean data types. When we updated the value of length to a decimal number (3.2) we created a **<ins>float**</ins> which is a numerical value with decimal places. In the following cell you can see that although `area` and `new_area` are both equal to 16, if you print `area` you will notice that it displays to one decimal place. By checking the type we see that `area` and `new_area` are respectively a float and an interger and if we use the `==` to check if these values are equal we notice that indeed they are (despite being different numerical types)."
   ]
  },
  {
   "cell_type": "code",
   "execution_count": 45,
   "metadata": {},
   "outputs": [
    {
     "name": "stdout",
     "output_type": "stream",
     "text": [
      "16.0\n",
      "16\n",
      "<class 'float'>\n",
      "<class 'int'>\n",
      "True\n"
     ]
    }
   ],
   "source": [
    "print(area)\n",
    "print(new_area)\n",
    "print(type(area))\n",
    "print(type(new_area))\n",
    "print(area == new_area)"
   ]
  },
  {
   "attachments": {},
   "cell_type": "markdown",
   "metadata": {},
   "source": [
    "# Run some code!"
   ]
  },
  {
   "attachments": {},
   "cell_type": "markdown",
   "metadata": {},
   "source": [
    "This cell imports the pandas library as 'pd' and loads a csv file into a DataFrame."
   ]
  },
  {
   "cell_type": "code",
   "execution_count": 10,
   "metadata": {},
   "outputs": [],
   "source": [
    "import pandas as pd\n",
    "network = pd.read_csv(\"data/network.csv\")"
   ]
  },
  {
   "attachments": {},
   "cell_type": "markdown",
   "metadata": {},
   "source": [
    "This cell previews the top 6 rows of the table"
   ]
  },
  {
   "cell_type": "code",
   "execution_count": 11,
   "metadata": {},
   "outputs": [
    {
     "data": {
      "text/html": [
       "<div>\n",
       "<style scoped>\n",
       "    .dataframe tbody tr th:only-of-type {\n",
       "        vertical-align: middle;\n",
       "    }\n",
       "\n",
       "    .dataframe tbody tr th {\n",
       "        vertical-align: top;\n",
       "    }\n",
       "\n",
       "    .dataframe thead th {\n",
       "        text-align: right;\n",
       "    }\n",
       "</style>\n",
       "<table border=\"1\" class=\"dataframe\">\n",
       "  <thead>\n",
       "    <tr style=\"text-align: right;\">\n",
       "      <th></th>\n",
       "      <th>Node Label</th>\n",
       "      <th>Max Flow</th>\n",
       "      <th>Max Stage</th>\n",
       "      <th>Max Froude</th>\n",
       "      <th>Max Velocity</th>\n",
       "      <th>Max Mode</th>\n",
       "      <th>Max State</th>\n",
       "    </tr>\n",
       "  </thead>\n",
       "  <tbody>\n",
       "    <tr>\n",
       "      <th>0</th>\n",
       "      <td>resin</td>\n",
       "      <td>7.296</td>\n",
       "      <td>70.543</td>\n",
       "      <td>0.008</td>\n",
       "      <td>0.041</td>\n",
       "      <td>66.00</td>\n",
       "      <td>0</td>\n",
       "    </tr>\n",
       "    <tr>\n",
       "      <th>1</th>\n",
       "      <td>CS26</td>\n",
       "      <td>1.000</td>\n",
       "      <td>70.031</td>\n",
       "      <td>0.037</td>\n",
       "      <td>0.112</td>\n",
       "      <td>67.92</td>\n",
       "      <td>0</td>\n",
       "    </tr>\n",
       "    <tr>\n",
       "      <th>2</th>\n",
       "      <td>CS25</td>\n",
       "      <td>1.011</td>\n",
       "      <td>70.031</td>\n",
       "      <td>0.035</td>\n",
       "      <td>0.108</td>\n",
       "      <td>67.88</td>\n",
       "      <td>0</td>\n",
       "    </tr>\n",
       "    <tr>\n",
       "      <th>3</th>\n",
       "      <td>RD25Sd</td>\n",
       "      <td>0.000</td>\n",
       "      <td>69.081</td>\n",
       "      <td>0.000</td>\n",
       "      <td>0.000</td>\n",
       "      <td>70.70</td>\n",
       "      <td>0</td>\n",
       "    </tr>\n",
       "    <tr>\n",
       "      <th>4</th>\n",
       "      <td>CS24</td>\n",
       "      <td>1.021</td>\n",
       "      <td>70.031</td>\n",
       "      <td>0.033</td>\n",
       "      <td>0.103</td>\n",
       "      <td>67.84</td>\n",
       "      <td>0</td>\n",
       "    </tr>\n",
       "  </tbody>\n",
       "</table>\n",
       "</div>"
      ],
      "text/plain": [
       "  Node Label  Max Flow  Max Stage  Max Froude  Max Velocity  Max Mode  \\\n",
       "0      resin     7.296     70.543       0.008         0.041     66.00   \n",
       "1       CS26     1.000     70.031       0.037         0.112     67.92   \n",
       "2       CS25     1.011     70.031       0.035         0.108     67.88   \n",
       "3     RD25Sd     0.000     69.081       0.000         0.000     70.70   \n",
       "4       CS24     1.021     70.031       0.033         0.103     67.84   \n",
       "\n",
       "   Max State  \n",
       "0          0  \n",
       "1          0  \n",
       "2          0  \n",
       "3          0  \n",
       "4          0  "
      ]
     },
     "execution_count": 11,
     "metadata": {},
     "output_type": "execute_result"
    }
   ],
   "source": [
    "network.head()"
   ]
  },
  {
   "attachments": {},
   "cell_type": "markdown",
   "metadata": {},
   "source": [
    "# Loading the Floodmodeller API"
   ]
  },
  {
   "attachments": {},
   "cell_type": "markdown",
   "metadata": {},
   "source": [
    "Lets load a DAT file using the flood modeller API."
   ]
  },
  {
   "cell_type": "code",
   "execution_count": 12,
   "metadata": {},
   "outputs": [],
   "source": [
    "from floodmodeller_api import DAT"
   ]
  },
  {
   "cell_type": "code",
   "execution_count": 13,
   "metadata": {},
   "outputs": [
    {
     "data": {
      "text/plain": [
       "<floodmodeller_api Class: DAT(filepath=C:\\Users\\LAMBERD3\\Documents\\Python\\Flood_modeller_git\\floodmodeller-api\\demo\\data\\EX3.DAT)>"
      ]
     },
     "execution_count": 13,
     "metadata": {},
     "output_type": "execute_result"
    }
   ],
   "source": [
    "ex3_dat = DAT(\"data/EX3.DAT\")\n",
    "ex3_dat #Look at dat"
   ]
  }
 ],
 "metadata": {
  "kernelspec": {
   "display_name": "fm-api",
   "language": "python",
   "name": "python3"
  },
  "language_info": {
   "codemirror_mode": {
    "name": "ipython",
    "version": 3
   },
   "file_extension": ".py",
   "mimetype": "text/x-python",
   "name": "python",
   "nbconvert_exporter": "python",
   "pygments_lexer": "ipython3",
   "version": "3.11.0"
  },
  "orig_nbformat": 4
 },
 "nbformat": 4,
 "nbformat_minor": 2
}

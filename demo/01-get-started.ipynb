{
 "cells": [
  {
   "attachments": {},
   "cell_type": "markdown",
   "metadata": {},
   "source": [
    "# Get Started!\n",
    "<hr>"
   ]
  },
  {
   "attachments": {},
   "cell_type": "markdown",
   "metadata": {},
   "source": [
    "## Jupyter Notebook Basics\n",
    "Jupyter Notebook is an interactive computational environment that allows you to write and run code, and combine it with explanatory text and visualizations. In this notebook, we will walk you through the basics of how to use Jupyter Notebook to write and run code.\n",
    "\n",
    "The notebook is divided into cells, which can contain either code or text. To add a new cell, click on the \"+\" button on the toolbar. To change the cell type from code to text, click on the cell and select \"Markdown\" from the dropdown menu in the toolbar.\n",
    "\n",
    "To run a code cell, click on the cell and press \"Shift + Enter\". The output of the code will be displayed below the cell. To edit a cell, simply click on it and start typing.\n",
    "\n",
    "## Starting Python\n",
    "You may need to point the notebook to the right version of python. To do this, simply look at the top right corner of the notebook. You should see a drop down menu that says \"Kernel\". Click on this menu, and you'll see a list of available kernels, choose the Python one.\n",
    "\n",
    "Once you've selected the appropriate kernel, you're ready to start writing and running your code in Jupyter Notebook!\n"
   ]
  },
  {
   "attachments": {},
   "cell_type": "markdown",
   "metadata": {},
   "source": [
    "## Content \n",
    "\n",
    "1. [Python introduction](#python-introduction)    \n",
    "1.1 [Printing and operations](#printing-and-operations)   \n",
    "1.2 [Comments](#comments)   \n",
    "1.3 [Variables and comparisons](#variables-and-comparisons)   \n",
    "1.4 [Data types](#data-types)   \n",
    "1.5 [Lists and loops](#lists-and-loops)   \n",
    "\n",
    "2. [Floodmodeller API](#floodmodeller-api)   \n",
    "2.1 [Dat class](#dat-class)   \n",
    "2.2 [ZZN class] (#zzn-class)"
   ]
  },
  {
   "attachments": {},
   "cell_type": "markdown",
   "metadata": {},
   "source": [
    "## Python introduction \n",
    "\n",
    "Before showing some features of the Flood Modeller API, if you aren't too familiar with programing languages or python feel free to work through the following section to familiarise yourself.  \n",
    "\n",
    "We will only cover the very basics to get you started with the Flood Modeller API. If you wish to learn more about python, there are many other free (and paid) courses online to teach you, we recommend the W3school tutorial available at: https://www.w3schools.com/python/default.asp    \n",
    "\n",
    "\n",
    "Throughout this notebook, you will find more specific links to support your learning and go more in depth on certain subjects if you wish for further your learning.   \n",
    "If you are already familiar with python, feel free to skip straight to the floodmodeller - api section at the end of this notebook.\n"
   ]
  },
  {
   "attachments": {},
   "cell_type": "markdown",
   "metadata": {},
   "source": [
    "### Printing and operations\n",
    "\n",
    "One of the most important and straightforward tasks you can perform is a **print statement**.\n",
    "\n",
    "For Python to recognise text, it is defined by being held inside quotation marks. This is called a <ins>**\"string\"**</ins> in python and is a data type. We will see other types of data later in the notebook.  \n",
    "\n",
    "Below is a cell you can run which will print the text within the parentheses and enclosed in quotation marks. \n",
    "* Try running it by clicking on the cell and pressing **\"Shift + Enter\"** or by pressing the play button on the top left corner of the cell. You will see the text ` Hello, world!` is printed below the code cell as an output."
   ]
  },
  {
   "cell_type": "code",
   "execution_count": null,
   "metadata": {},
   "outputs": [],
   "source": [
    "# First print statement\n",
    "print(\"Hello, world!\")"
   ]
  },
  {
   "attachments": {},
   "cell_type": "markdown",
   "metadata": {},
   "source": [
    "* Let's check that python recognises `Hello, world!` as a string by calling type() on it. "
   ]
  },
  {
   "cell_type": "code",
   "execution_count": null,
   "metadata": {},
   "outputs": [],
   "source": [
    "# Check that type is 'str' \n",
    "print(type(\"Hello, world!\"))"
   ]
  },
  {
   "attachments": {},
   "cell_type": "markdown",
   "metadata": {},
   "source": [
    "We can print strings of text but also we can print the result of arithmetic operations!\n",
    "Notice the difference between `print(1+3)` and `print(\"1+3\")` by running the cells below."
   ]
  },
  {
   "cell_type": "code",
   "execution_count": null,
   "metadata": {},
   "outputs": [],
   "source": [
    "# Print the result of the opporation\n",
    "print(1+3)"
   ]
  },
  {
   "cell_type": "code",
   "execution_count": null,
   "metadata": {},
   "outputs": [],
   "source": [
    "# Print the text in quotation marks\n",
    "print(\"1+3\")"
   ]
  },
  {
   "attachments": {},
   "cell_type": "markdown",
   "metadata": {},
   "source": [
    "As you can see, the first cell prints returns `4` as it recognises 1 and 3 as <ins>**integers**</ins> and + as an operation symbol. When quotation marks are used, the content of the print statement is recognised as a string and is printed as is; `1+3`\n",
    "\n",
    "The following table shows some examples of common arithmetic operations you may wish to perform: \n",
    "\n",
    "| Operation      | Symbol | Example    |\n",
    "|----------------|--------|------------|\n",
    "| Addition       | +      | 1 + 2 = 3  |\n",
    "| Subtraction    | -      | 5 - 4 = 1  |\n",
    "| Multiplication | *      | 2 * 4 = 8  |\n",
    "| Division       | /      | 6 / 3 = 2  |\n",
    "| Exponent       | **     | 3 ** 2 = 9 |\n",
    "\n",
    "Note that Python follows the order of operation of parenthesis, exponents, multiply or divide, addition and subtraction (PEDMAS)"
   ]
  },
  {
   "attachments": {},
   "cell_type": "markdown",
   "metadata": {},
   "source": [
    "To learn more about print() visit: https://www.w3schools.com/python/ref_func_print.asp   \n",
    "To learn more about type() visit: https://www.w3schools.com/python/ref_func_type.asp   \n",
    "To learn more about strings visit: https://www.w3schools.com/python/python_strings.asp    \n",
    "To learn more about integers and numbers visit: https://www.w3schools.com/python/python_numbers.asp    \n",
    "To learn more about arithmetic operators visit: https://www.w3schools.com/python/python_operators.asp    "
   ]
  },
  {
   "attachments": {},
   "cell_type": "markdown",
   "metadata": {},
   "source": [
    "### Comments\n",
    "\n",
    "You will notice comments throughout the code. These are annotations of the code to help the user understand what it does which are preceded by the pound sign (#).   \n",
    "As the complexity of code increases, annotation becomes more important not only for others, but also for yourself to remember and understand what your code does. \n",
    "\n",
    "* Try running the cell below, you will notice an error message will pop up.  \n",
    "\n",
    "* Now try running it again but add in the pound sign (#) **before** the first line of text so it looks like this: `# Multiply 3 by 2`.  \n",
    "This will comment out the first line indicating that the line is to be ignored by the computer."
   ]
  },
  {
   "cell_type": "code",
   "execution_count": null,
   "metadata": {},
   "outputs": [],
   "source": [
    "# Have a go!\n",
    " Multiply 3*2 \n",
    "\n",
    "print(3*2)"
   ]
  },
  {
   "attachments": {},
   "cell_type": "markdown",
   "metadata": {},
   "source": [
    "To learn more about comments visit: https://www.w3schools.com/python/python_comments.asp    \n",
    "To learn more about python syntax visit: https://www.w3schools.com/python/python_syntax.asp  "
   ]
  },
  {
   "attachments": {},
   "cell_type": "markdown",
   "metadata": {},
   "source": [
    "### Variables and comparisons\n",
    "\n",
    "So far we have run some arithmetic operations, used print statement, looked into comments and have used either **<ins>string**</ins> or **<ins>integer**</ins> data types. Let's now look into variables and comparisons.\n",
    "\n",
    "A variable is used to save data so we can use it again later. Let's see an example below where we have two variables which represent the size of your rectangular room in meters; `length` and `width`. Make sure you run the cell below so length and width are created as 3 and 4 respectively.  \n",
    "\n",
    "Notice how we've used a comma to split our print statement. To learn more about this go to: "
   ]
  },
  {
   "cell_type": "code",
   "execution_count": null,
   "metadata": {},
   "outputs": [],
   "source": [
    "# Create variables length and width with assigned values\n",
    "length = 3\n",
    "width = 4\n",
    "\n",
    "print(\"You've just created your first two variables! Width: \", width, \"and legth: \", length)"
   ]
  },
  {
   "attachments": {},
   "cell_type": "markdown",
   "metadata": {},
   "source": [
    "When creating a variable, choose a short and descriptive name and use `=` to assign the value to the variable name. Note that variable names:\n",
    "* Can't have spaces (e.g., `new area` is not allowed)\n",
    "* Must start with either a letter or underscore (e.g., `1_length` is not allowed)\n",
    "* Can be composed **only** of letters, numbers and underscores (e.g., `length!` is not allowed)\n",
    "\n",
    "\n",
    "After assigning the values to length and width, lets calculate the area of our room by multiplying our our two variables and saving the answer as a new variable `area`. We can check the value of `Area` by calling print on it. "
   ]
  },
  {
   "cell_type": "code",
   "execution_count": null,
   "metadata": {},
   "outputs": [],
   "source": [
    "# Calculate area\n",
    "area = length * width \n",
    "\n",
    "print(area)"
   ]
  },
  {
   "attachments": {},
   "cell_type": "markdown",
   "metadata": {},
   "source": [
    "You're moving house and you want a bigger room! Your new room is square and has a side of 4m, so lets create a new variable `side` to represent this and then save your new room area as `new_area`"
   ]
  },
  {
   "cell_type": "code",
   "execution_count": null,
   "metadata": {},
   "outputs": [],
   "source": [
    "# New room side\n",
    "side = 4\n",
    "\n",
    "# New room area\n",
    "new_area = side ** 2\n",
    "\n",
    "print(new_area)"
   ]
  },
  {
   "attachments": {},
   "cell_type": "markdown",
   "metadata": {},
   "source": [
    "The following table contains the 8 comparison operations available in Python. Please note that if you wish to check if two values are the same, use `==` not `=` as a single equals. E.g.: \n",
    "* `a == 1` will check if a is equal to 1  \n",
    "* `a = 1` will set the value of a to 1 \n",
    "\n",
    "| Operation | Meaning                 |\n",
    "|-----------|-------------------------|\n",
    "| <         | strictly less than      |\n",
    "| <=        | less than or equal      |\n",
    "| >         | strictly greater than   |\n",
    "| >=        | greater than or equal   |\n",
    "| ==        | equal                   |\n",
    "| !=        | not equal               |\n",
    "| is        | object identity         |\n",
    "| is not    | negated object identity |\n",
    "\n",
    "Let's see if our new room is larger than our original room."
   ]
  },
  {
   "cell_type": "code",
   "execution_count": null,
   "metadata": {},
   "outputs": [],
   "source": [
    "# Compare the area of the new room and old room\n",
    "print(new_area > area) \n",
    "\n",
    "print(type(new_area > area)) # prints the data type"
   ]
  },
  {
   "attachments": {},
   "cell_type": "markdown",
   "metadata": {},
   "source": [
    "Notice how comparing `new_area` to `area` returns \"True\" as your new room is indeed larger than your previous area. This is a new data type (like string and integer) called a <ins>**Boolean**</ins>.  \n",
    "<ins>**Booleans**</ins> can only ever be `True` or `False` and are spelled with the first letter capitalised. The following table outlines the various boolean operations.\n",
    "\n",
    "\n",
    "| Operation | Result                               |\n",
    "|-----------|--------------------------------------|\n",
    "| x or y    | if x is true, then x, else y         |\n",
    "| x and y   | if x is false, then x, else y        |\n",
    "| not x     | if x is false, then True, else False |\n",
    "\n",
    "When you assign a new value to the same variable, the old value is overwritten, so be sure you don't need the old variable before overwriting it. Or you can name the variable something new.\n",
    "\n",
    "Turns out you made an error measuring your current room and the length is in fact 3.2 meters and the width is 5m.\n",
    "\n",
    "* Have a go in the cell below at reassigning the new values for width and length, calculating the real area of your room and then comparing this with the size of the room in your new house. "
   ]
  },
  {
   "cell_type": "code",
   "execution_count": null,
   "metadata": {},
   "outputs": [],
   "source": [
    "# Have a go here! \n",
    "# Reassign values for length and width \n",
    "length = \n",
    "width = \n",
    "\n",
    "# Calculate the area\n",
    "area = length * width \n",
    "\n",
    "# Compare old and new area \n",
    "new_area > area "
   ]
  },
  {
   "attachments": {},
   "cell_type": "markdown",
   "metadata": {},
   "source": [
    "If you've reassigned the values correctly to 3.2 and 5m, the comparison should output `False`. This is because both `area` and `new_area` are 16 square meters and `new_area` is not **strickly greater** than area. \n",
    "* Looking at the comparison operator's table can you figure out how to add in one character to the cell above and make the comparison True? "
   ]
  },
  {
   "attachments": {},
   "cell_type": "markdown",
   "metadata": {},
   "source": [
    "To learn more about variables visit: https://www.w3schools.com/python/python_variables.asp   \n",
    "To learn more about comparison and logical operators visit: https://www.w3schools.com/python/python_operators.asp "
   ]
  },
  {
   "attachments": {},
   "cell_type": "markdown",
   "metadata": {},
   "source": [
    "### Data types\n",
    "\n",
    "So far we've seen string, integer and boolean data types. When we updated the value of length to a decimal number (3.2) we created a **<ins>float**</ins> which is a numerical value with decimal places. In the following cell you can see that although `area` and `new_area` are both equal to 16, if you print `area` you will notice that it displays to one decimal place.  \n",
    "\n",
    "By checking the type we see that `area` and `new_area` are respectively a float and an interger, and if we use the `==` to check if these values are equal we notice that indeed they are (despite being different numerical types)."
   ]
  },
  {
   "cell_type": "code",
   "execution_count": null,
   "metadata": {},
   "outputs": [],
   "source": [
    "# Print the area values, check their data types and compare the values\n",
    "\n",
    "print(area)\n",
    "print(new_area)\n",
    "\n",
    "print(type(area))\n",
    "print(type(new_area))\n",
    "\n",
    "print(area == new_area)"
   ]
  },
  {
   "attachments": {},
   "cell_type": "markdown",
   "metadata": {},
   "source": [
    "To learn more about data types visit: https://www.w3schools.com/python/python_datatypes.asp"
   ]
  },
  {
   "attachments": {},
   "cell_type": "markdown",
   "metadata": {},
   "source": [
    "### Lists and loops\n",
    "\n",
    "Now we have the basics covered lets look into creating a list and looping through it! \n",
    "\n",
    "Lists are used to store multiple items of a single variable and are saved with the same naming convention and a single equals sign followed by the content of the list in square brackets with items separated by a comma. E.g., `list = [ item1, item2, item 3]`  \n",
    "\n",
    "Lists can be made up of any data type or a mix of data types. `list_02 = [\"string\", 1.05, True, 3]` is a list with a string, a float, a boolean and an integer.  \n",
    "\n",
    "You can access items in a list by referring to their index which starts at 0 so \"string\" can be called through `list_02[0]`\n",
    "\n",
    "Run the next cell to create a list with 5 floats, then print \"first item: \" followed by the first item in our list. Notice how we've used a comma to split some text we're printing before the item in our list."
   ]
  },
  {
   "cell_type": "code",
   "execution_count": null,
   "metadata": {},
   "outputs": [],
   "source": [
    "# Create a list called my_list containing floats \n",
    "my_list = [0.5, 1.2, 2.4, 3.6, 2.9]\n",
    "\n",
    "print(\"first item: \" , my_list[0])"
   ]
  },
  {
   "attachments": {},
   "cell_type": "markdown",
   "metadata": {},
   "source": [
    "* Have a go at calling an index value of -1. This will return the final item in the list! \n",
    "* What happens if you call a value outside of the index such as 9? How about when you call -6? (Delete this line or comment it out with a # after testing this)\n",
    "* Look at slicing a list by calling `my_list[0:3]` - This will print the first three items of the list. Remember that the first item in a list is `0`"
   ]
  },
  {
   "cell_type": "code",
   "execution_count": null,
   "metadata": {},
   "outputs": [],
   "source": [
    "# Have a go here! \n",
    "# Call -1 on my_list\n",
    "\n",
    "# Call a value outside of index. Then, comment it out with a # so the computer knows to ignore this.\n",
    "\n",
    "# Slice my_list to print just the first three items\n"
   ]
  },
  {
   "attachments": {},
   "cell_type": "markdown",
   "metadata": {},
   "source": [
    "Let's now print each item in the list by calling its index."
   ]
  },
  {
   "cell_type": "code",
   "execution_count": null,
   "metadata": {},
   "outputs": [],
   "source": [
    "print(\"first item: \" , my_list[0])\n",
    "print(\"second item: \" , my_list[1])\n",
    "print(\"third item: \" , my_list[2])\n",
    "print(\"fourth item: \" , my_list[3])\n",
    "print(\"fifth item: \" , my_list[4])"
   ]
  },
  {
   "attachments": {},
   "cell_type": "markdown",
   "metadata": {},
   "source": [
    "That was repetitive! You may be tempted to copy and paste the same line over and over again whilst updating the text and number to print each item but imagine if the list contained hundreds of items! This will be very boring, tedious and frustrating. It's also very likely that you'll eventually make mistakes too!     \n",
    "\n",
    "Let's look at looping so we can then execute a block of code repeatedly in less lines of code.  \n",
    "\n",
    "In the cell below, we first create our list, `other_list` containing the string we will print before each item in `my_list`. We then loop through each item `i` which will be equal to 0 then 1, then 2 etc. until the end of `my_list`."
   ]
  },
  {
   "cell_type": "code",
   "execution_count": null,
   "metadata": {},
   "outputs": [],
   "source": [
    "# Create other list \n",
    "other_list = [\"first item: \", \"second item: \", \"third item: \" , \"fourth item: \", \"fifth item: \"]\n",
    "\n",
    "for i in range(len(my_list)):\n",
    "    print(other_list[i] , my_list[i])"
   ]
  },
  {
   "attachments": {},
   "cell_type": "markdown",
   "metadata": {},
   "source": [
    "To learn more about for loops visit: https://www.w3schools.com/python/python_for_loops.asp   \n",
    "To learn more about lists visit: https://www.w3schools.com/python/python_lists.asp    \n",
    "\n",
    "We have not mentioned them here but another form of looping is while loops.  \n",
    "Find out more by visiting: https://www.w3schools.com/python/python_while_loops.asp    "
   ]
  },
  {
   "attachments": {},
   "cell_type": "markdown",
   "metadata": {},
   "source": [
    "## Floodmodeller API\n",
    " \n",
    "It's essential to have some basic understanding of python programming to use the API, however a lot of capabilities are unlocked with just a fundamental understanding of python.   \n",
    "Let's load in the latest version (v 0.4.1) of FloodModeller-API and check we have the most up to date version.  \n",
    "* Run the cell below with **\"Shift + Enter\"** and check which version of the API we have loaded."
   ]
  },
  {
   "cell_type": "code",
   "execution_count": null,
   "metadata": {},
   "outputs": [],
   "source": [
    "import floodmodeller_api\n",
    "print(floodmodeller_api.__version__)"
   ]
  },
  {
   "attachments": {},
   "cell_type": "markdown",
   "metadata": {},
   "source": [
    "For more of an overview of the API please visit: https://api.floodmodeller.com/api/getting_started/overview.html "
   ]
  },
  {
   "attachments": {},
   "cell_type": "markdown",
   "metadata": {},
   "source": [
    "### Dat Class\n",
    "\n",
    "The API is broken down into various classes;  `DAT`, `IEF`, `IED`, `XML2D`, `ZZN`, `INP`, `LF1` or `LF2`.  \n",
    "\n",
    "Let's import in the `DAT` class, to work with the network file, then we will read and load the \"EX3.DAT\" file as a variable."
   ]
  },
  {
   "cell_type": "code",
   "execution_count": null,
   "metadata": {},
   "outputs": [],
   "source": [
    "from floodmodeller_api import DAT\n",
    "\n",
    "ex3_dat = DAT(\"data/EX3.DAT\")\n",
    "ex3_dat #Look at dat"
   ]
  },
  {
   "attachments": {},
   "cell_type": "markdown",
   "metadata": {},
   "source": [
    "Let's look at the general parameters inside the dat file.  \n",
    "Only change these parameters if you are absolutely certain you are able to change these - node count for example, should be treated as read only. "
   ]
  },
  {
   "cell_type": "code",
   "execution_count": null,
   "metadata": {},
   "outputs": [],
   "source": [
    "ex3_dat.general_parameters"
   ]
  },
  {
   "attachments": {},
   "cell_type": "markdown",
   "metadata": {},
   "source": [
    "Let's see what's in the network file. The various units can be accessed via the attributes \"`.sections .conduits .structures .boundaries .losses`\" This dat file only contains rivers, a bridge and two boundary units. Lets have a look at what information we have in the sections data."
   ]
  },
  {
   "cell_type": "code",
   "execution_count": null,
   "metadata": {},
   "outputs": [],
   "source": [
    "ex3_dat.sections"
   ]
  },
  {
   "attachments": {},
   "cell_type": "markdown",
   "metadata": {},
   "source": [
    "Each individual unit class is somewhat unique in how they can be worked with in python, but generally most unit classes will have a .name, .comment and .data attribute. For example, a RIVER unit class contains the full section data as a data frame:"
   ]
  },
  {
   "cell_type": "code",
   "execution_count": null,
   "metadata": {},
   "outputs": [],
   "source": [
    "ex3_dat.sections['620'].data"
   ]
  },
  {
   "cell_type": "code",
   "execution_count": null,
   "metadata": {},
   "outputs": [],
   "source": [
    "print(ex3_dat.sections['620'].dist_to_next) # print the distance to next section for river section '620'"
   ]
  },
  {
   "attachments": {},
   "cell_type": "markdown",
   "metadata": {},
   "source": [
    "You can manipulate many different aspects of the dat file such as the data for each cross section. This information is saved in a pandas dataframe.   \n",
    "* see https://www.w3schools.com/python/pandas/default.asp for more on pandas and data frames   \n",
    "\n",
    "\n",
    "Similarly to with list slicing, we can manipulate a subsection of the data using the `iloc` method where the square brackets reference ['row','column'].   \n",
    "The following cell looks at the section data for the river unit 620 and updates the Mannings n value to 0.1 for the fourth to seventh row.  "
   ]
  },
  {
   "cell_type": "code",
   "execution_count": null,
   "metadata": {},
   "outputs": [],
   "source": [
    "ex3_dat.sections['620'].data.iloc[3:6, 2] = 0.1     \n",
    "ex3_dat.sections['620'].data"
   ]
  },
  {
   "attachments": {},
   "cell_type": "markdown",
   "metadata": {},
   "source": [
    "#### Walk-through excercise: Inserting a copied unit\n",
    "\n",
    "Let's explore some of the various things you can accomplish with the Flood modeller API.   \n",
    "\n",
    "Lets stick in a new cross section 10m downstream from 620 at 630.  \n",
    "We'll need to first update the distance to next at 620, create a copy of the updated 620 unit, update the name and comment of the new unit and then add it back into the dat file in the correct location."
   ]
  },
  {
   "cell_type": "code",
   "execution_count": null,
   "metadata": {},
   "outputs": [],
   "source": [
    "ex3_dat.sections['620'].dist_to_next = 10.0 # Update the distance to next section to 10m"
   ]
  },
  {
   "attachments": {},
   "cell_type": "markdown",
   "metadata": {},
   "source": [
    "We can copy objects in python and make changes to these however as we wish to create a copy of 620 and then update the information within the new 630 unit whilst keeping our original 620, a deep copy will be best as this allows our new 630 unit to be saved to a new memory location and therefore we won't be overwriting the 620 unit.  \n",
    "We can then make changes to both 630 and 620 without one affecting the other. Importing the `copy` module and calling `copy.deepcopy` will allow us to do this. "
   ]
  },
  {
   "cell_type": "code",
   "execution_count": null,
   "metadata": {},
   "outputs": [],
   "source": [
    "import copy \n",
    "\n",
    "unit_630 = copy.deepcopy(ex3_dat.sections['620']) #make a copy of the upstream node and save it as unit_630\n",
    "print(unit_630.name)"
   ]
  },
  {
   "cell_type": "code",
   "execution_count": null,
   "metadata": {},
   "outputs": [],
   "source": [
    "unit_630.name = '630' #assign the new name for our unit\n",
    "print(unit_630.name)"
   ]
  },
  {
   "cell_type": "code",
   "execution_count": null,
   "metadata": {},
   "outputs": [],
   "source": [
    "unit_630.comment = 'copy of upstream XS' #update the comment to reflect the origin of this cross section\n",
    "unit_630.comment"
   ]
  },
  {
   "cell_type": "code",
   "execution_count": null,
   "metadata": {},
   "outputs": [],
   "source": [
    "print(ex3_dat.sections['620']) #lets have a look at both units side by side to view how these differ \n",
    "print(unit_630)"
   ]
  },
  {
   "cell_type": "code",
   "execution_count": null,
   "metadata": {},
   "outputs": [],
   "source": [
    "ex3_dat.insert_unit(unit_630, add_after = ex3_dat.sections['620']) #insert unit after 620\n",
    "\n",
    "ex3_dat.sections"
   ]
  },
  {
   "cell_type": "code",
   "execution_count": null,
   "metadata": {},
   "outputs": [],
   "source": [
    "# check that 630 is after 640\n",
    "ex3_dat.next(ex3_dat.sections['620'])"
   ]
  },
  {
   "cell_type": "code",
   "execution_count": null,
   "metadata": {},
   "outputs": [],
   "source": [
    "#save the new dat file - note you can overwrite the current dat file if you give the same file path as the current dat file.\n",
    "ex3_dat.save(\"data/EX4.DAT\")"
   ]
  },
  {
   "attachments": {},
   "cell_type": "markdown",
   "metadata": {},
   "source": [
    "#### Using and saving your own data\n",
    "\n",
    "On the left of your screen, you should be able to see the explorer tab represented by an icon of two sheets. In here, your new file \"EX4.dat\" should have appeared under demo > data.    \n",
    "You can also right click on a file and save it this way.   \n",
    "\n",
    "You can also drag and drop any other file into the relevant space within the file explorer which you can then use within this codespace. This won't make your data public, it will still be private and secure to your github account.   \n",
    "\n",
    "You can have a go at reading your own data in, make some changes and then save your updated file by `.save()` \n",
    "\n",
    "* Load your data into the file explorer on the left\n",
    "* Make some changes to your file and save them."
   ]
  },
  {
   "cell_type": "code",
   "execution_count": null,
   "metadata": {},
   "outputs": [],
   "source": [
    "# Have a go here! "
   ]
  },
  {
   "attachments": {},
   "cell_type": "markdown",
   "metadata": {},
   "source": [
    "#### Other tasks with the DAT class\n",
    "\n",
    "* Can you update the bed levels?\n",
    "* Plot a graph of the x/y data? \n",
    "* How about looking at the bridge structure? you can look into the name, comment, ds-label, us_remote_label, ds_remote_label and the subtype?\n",
    "* What is the type of the boundary units?\n"
   ]
  },
  {
   "cell_type": "code",
   "execution_count": null,
   "metadata": {},
   "outputs": [],
   "source": [
    "# Have a go here!\n"
   ]
  },
  {
   "attachments": {},
   "cell_type": "markdown",
   "metadata": {},
   "source": [
    "### ZZN class\n",
    "\n",
    "The zzn class works with results files. We first import the zzn class from the API package then read in our results file.   \n",
    "Note that you will need the respective .zzl file uploaded in the same space as the zzn file to successfully be able to load your results. If you do not have the respective .zzl file for the .zzn, an error will occur highlighting this.   \n",
    "The next cell imports the ZZn class and reads in the EX3 results."
   ]
  },
  {
   "cell_type": "code",
   "execution_count": 24,
   "metadata": {},
   "outputs": [],
   "source": [
    "from floodmodeller_api import ZZN\n",
    "\n",
    "zzn = ZZN(\"data/EX3.zzn\")"
   ]
  },
  {
   "attachments": {},
   "cell_type": "markdown",
   "metadata": {},
   "source": [
    "The key function for the zzn class is the `to_dataframe()`. A data frame is a way of presenting data in a table of rows and collumns, a bit like a spreadsheet! Calling this function displays the results in a pandas dataframe.   \n",
    "For more information on pandas dataframe visit: https://www.w3schools.com/python/pandas/pandas_dataframes.asp"
   ]
  },
  {
   "cell_type": "code",
   "execution_count": null,
   "metadata": {},
   "outputs": [],
   "source": [
    "zzn.to_dataframe()"
   ]
  },
  {
   "attachments": {},
   "cell_type": "markdown",
   "metadata": {},
   "source": [
    "That's a lot of data! Let's filter the results. If you hover over the `to_dataframe()` function in the above code cell you will see some information regarding the function displayed including the arguments you can call on the function. You can see all of this on the API user guide found here: https://api.floodmodeller.com/api/user_guide/zzn.html   \n",
    "Let's list all of the maximum values by specifying 'max' in the result_type argument."
   ]
  },
  {
   "cell_type": "code",
   "execution_count": 35,
   "metadata": {},
   "outputs": [
    {
     "data": {
      "text/html": [
       "<div>\n",
       "<style scoped>\n",
       "    .dataframe tbody tr th:only-of-type {\n",
       "        vertical-align: middle;\n",
       "    }\n",
       "\n",
       "    .dataframe tbody tr th {\n",
       "        vertical-align: top;\n",
       "    }\n",
       "\n",
       "    .dataframe thead th {\n",
       "        text-align: right;\n",
       "    }\n",
       "</style>\n",
       "<table border=\"1\" class=\"dataframe\">\n",
       "  <thead>\n",
       "    <tr style=\"text-align: right;\">\n",
       "      <th></th>\n",
       "      <th>Max Flow</th>\n",
       "      <th>Max Stage</th>\n",
       "      <th>Max Froude</th>\n",
       "      <th>Max Velocity</th>\n",
       "      <th>Max Mode</th>\n",
       "      <th>Max State</th>\n",
       "    </tr>\n",
       "    <tr>\n",
       "      <th>Node Label</th>\n",
       "      <th></th>\n",
       "      <th></th>\n",
       "      <th></th>\n",
       "      <th></th>\n",
       "      <th></th>\n",
       "      <th></th>\n",
       "    </tr>\n",
       "  </thead>\n",
       "  <tbody>\n",
       "    <tr>\n",
       "      <th>m60</th>\n",
       "      <td>129.956375</td>\n",
       "      <td>12.950798</td>\n",
       "      <td>0.377594</td>\n",
       "      <td>1.243849</td>\n",
       "      <td>7.432000</td>\n",
       "      <td>0.0</td>\n",
       "    </tr>\n",
       "    <tr>\n",
       "      <th>m40</th>\n",
       "      <td>129.909225</td>\n",
       "      <td>12.961239</td>\n",
       "      <td>0.606789</td>\n",
       "      <td>1.400472</td>\n",
       "      <td>4.141000</td>\n",
       "      <td>0.0</td>\n",
       "    </tr>\n",
       "    <tr>\n",
       "      <th>m20</th>\n",
       "      <td>129.842499</td>\n",
       "      <td>12.964163</td>\n",
       "      <td>0.598122</td>\n",
       "      <td>1.480043</td>\n",
       "      <td>4.546000</td>\n",
       "      <td>0.0</td>\n",
       "    </tr>\n",
       "    <tr>\n",
       "      <th>0</th>\n",
       "      <td>129.750656</td>\n",
       "      <td>12.967451</td>\n",
       "      <td>0.233659</td>\n",
       "      <td>0.800559</td>\n",
       "      <td>20.739000</td>\n",
       "      <td>0.0</td>\n",
       "    </tr>\n",
       "    <tr>\n",
       "      <th>20</th>\n",
       "      <td>129.645691</td>\n",
       "      <td>12.965852</td>\n",
       "      <td>0.251476</td>\n",
       "      <td>0.815792</td>\n",
       "      <td>26.483999</td>\n",
       "      <td>0.0</td>\n",
       "    </tr>\n",
       "    <tr>\n",
       "      <th>40</th>\n",
       "      <td>129.553284</td>\n",
       "      <td>12.961924</td>\n",
       "      <td>0.215728</td>\n",
       "      <td>0.750724</td>\n",
       "      <td>41.956001</td>\n",
       "      <td>0.0</td>\n",
       "    </tr>\n",
       "    <tr>\n",
       "      <th>60</th>\n",
       "      <td>129.476395</td>\n",
       "      <td>12.958069</td>\n",
       "      <td>0.192954</td>\n",
       "      <td>0.721114</td>\n",
       "      <td>50.508999</td>\n",
       "      <td>0.0</td>\n",
       "    </tr>\n",
       "    <tr>\n",
       "      <th>80</th>\n",
       "      <td>129.405350</td>\n",
       "      <td>12.957767</td>\n",
       "      <td>0.162951</td>\n",
       "      <td>0.602645</td>\n",
       "      <td>54.208000</td>\n",
       "      <td>0.0</td>\n",
       "    </tr>\n",
       "    <tr>\n",
       "      <th>BRIDU</th>\n",
       "      <td>129.332504</td>\n",
       "      <td>12.957102</td>\n",
       "      <td>0.172851</td>\n",
       "      <td>0.604913</td>\n",
       "      <td>49.014999</td>\n",
       "      <td>0.0</td>\n",
       "    </tr>\n",
       "    <tr>\n",
       "      <th>BRIDD</th>\n",
       "      <td>129.332504</td>\n",
       "      <td>12.442711</td>\n",
       "      <td>0.190365</td>\n",
       "      <td>0.650670</td>\n",
       "      <td>49.012001</td>\n",
       "      <td>0.0</td>\n",
       "    </tr>\n",
       "    <tr>\n",
       "      <th>120</th>\n",
       "      <td>129.268768</td>\n",
       "      <td>12.436338</td>\n",
       "      <td>0.245741</td>\n",
       "      <td>0.828063</td>\n",
       "      <td>42.707001</td>\n",
       "      <td>0.0</td>\n",
       "    </tr>\n",
       "    <tr>\n",
       "      <th>140</th>\n",
       "      <td>129.197723</td>\n",
       "      <td>12.436707</td>\n",
       "      <td>0.258089</td>\n",
       "      <td>0.737995</td>\n",
       "      <td>41.422001</td>\n",
       "      <td>0.0</td>\n",
       "    </tr>\n",
       "    <tr>\n",
       "      <th>160</th>\n",
       "      <td>129.114655</td>\n",
       "      <td>12.437950</td>\n",
       "      <td>0.226414</td>\n",
       "      <td>0.637940</td>\n",
       "      <td>47.091000</td>\n",
       "      <td>0.0</td>\n",
       "    </tr>\n",
       "    <tr>\n",
       "      <th>180</th>\n",
       "      <td>129.024933</td>\n",
       "      <td>12.436773</td>\n",
       "      <td>0.237118</td>\n",
       "      <td>0.669699</td>\n",
       "      <td>39.495998</td>\n",
       "      <td>0.0</td>\n",
       "    </tr>\n",
       "    <tr>\n",
       "      <th>200</th>\n",
       "      <td>128.933853</td>\n",
       "      <td>12.436769</td>\n",
       "      <td>0.183779</td>\n",
       "      <td>0.532175</td>\n",
       "      <td>50.410000</td>\n",
       "      <td>0.0</td>\n",
       "    </tr>\n",
       "    <tr>\n",
       "      <th>220</th>\n",
       "      <td>128.846161</td>\n",
       "      <td>12.436559</td>\n",
       "      <td>0.172171</td>\n",
       "      <td>0.487473</td>\n",
       "      <td>57.005001</td>\n",
       "      <td>0.0</td>\n",
       "    </tr>\n",
       "    <tr>\n",
       "      <th>240</th>\n",
       "      <td>128.758484</td>\n",
       "      <td>12.437496</td>\n",
       "      <td>0.073926</td>\n",
       "      <td>0.243193</td>\n",
       "      <td>74.527000</td>\n",
       "      <td>0.0</td>\n",
       "    </tr>\n",
       "    <tr>\n",
       "      <th>260</th>\n",
       "      <td>128.669739</td>\n",
       "      <td>12.436918</td>\n",
       "      <td>0.074740</td>\n",
       "      <td>0.241838</td>\n",
       "      <td>73.473999</td>\n",
       "      <td>0.0</td>\n",
       "    </tr>\n",
       "    <tr>\n",
       "      <th>280</th>\n",
       "      <td>128.586884</td>\n",
       "      <td>12.434457</td>\n",
       "      <td>0.133313</td>\n",
       "      <td>0.413232</td>\n",
       "      <td>78.231003</td>\n",
       "      <td>0.0</td>\n",
       "    </tr>\n",
       "    <tr>\n",
       "      <th>300</th>\n",
       "      <td>128.507111</td>\n",
       "      <td>12.433598</td>\n",
       "      <td>0.127651</td>\n",
       "      <td>0.403048</td>\n",
       "      <td>79.925003</td>\n",
       "      <td>0.0</td>\n",
       "    </tr>\n",
       "    <tr>\n",
       "      <th>320</th>\n",
       "      <td>128.421539</td>\n",
       "      <td>12.432284</td>\n",
       "      <td>0.133324</td>\n",
       "      <td>0.453164</td>\n",
       "      <td>74.102997</td>\n",
       "      <td>0.0</td>\n",
       "    </tr>\n",
       "    <tr>\n",
       "      <th>340</th>\n",
       "      <td>128.326965</td>\n",
       "      <td>12.433143</td>\n",
       "      <td>0.187776</td>\n",
       "      <td>0.421789</td>\n",
       "      <td>65.988998</td>\n",
       "      <td>0.0</td>\n",
       "    </tr>\n",
       "    <tr>\n",
       "      <th>360</th>\n",
       "      <td>128.240631</td>\n",
       "      <td>12.432030</td>\n",
       "      <td>0.089528</td>\n",
       "      <td>0.309434</td>\n",
       "      <td>75.278999</td>\n",
       "      <td>0.0</td>\n",
       "    </tr>\n",
       "    <tr>\n",
       "      <th>380</th>\n",
       "      <td>128.173981</td>\n",
       "      <td>12.430616</td>\n",
       "      <td>0.102107</td>\n",
       "      <td>0.349187</td>\n",
       "      <td>76.806000</td>\n",
       "      <td>0.0</td>\n",
       "    </tr>\n",
       "    <tr>\n",
       "      <th>400</th>\n",
       "      <td>128.113434</td>\n",
       "      <td>12.428854</td>\n",
       "      <td>0.126967</td>\n",
       "      <td>0.411054</td>\n",
       "      <td>64.651001</td>\n",
       "      <td>0.0</td>\n",
       "    </tr>\n",
       "    <tr>\n",
       "      <th>420</th>\n",
       "      <td>128.071930</td>\n",
       "      <td>12.426296</td>\n",
       "      <td>0.160984</td>\n",
       "      <td>0.504241</td>\n",
       "      <td>56.759998</td>\n",
       "      <td>0.0</td>\n",
       "    </tr>\n",
       "    <tr>\n",
       "      <th>440</th>\n",
       "      <td>128.037003</td>\n",
       "      <td>12.422903</td>\n",
       "      <td>0.128419</td>\n",
       "      <td>0.444644</td>\n",
       "      <td>63.591000</td>\n",
       "      <td>0.0</td>\n",
       "    </tr>\n",
       "    <tr>\n",
       "      <th>460</th>\n",
       "      <td>128.008881</td>\n",
       "      <td>12.420507</td>\n",
       "      <td>0.105676</td>\n",
       "      <td>0.426053</td>\n",
       "      <td>72.363998</td>\n",
       "      <td>0.0</td>\n",
       "    </tr>\n",
       "    <tr>\n",
       "      <th>480</th>\n",
       "      <td>127.989349</td>\n",
       "      <td>12.418867</td>\n",
       "      <td>0.095256</td>\n",
       "      <td>0.421599</td>\n",
       "      <td>76.614998</td>\n",
       "      <td>0.0</td>\n",
       "    </tr>\n",
       "    <tr>\n",
       "      <th>500</th>\n",
       "      <td>127.974213</td>\n",
       "      <td>12.416439</td>\n",
       "      <td>0.098070</td>\n",
       "      <td>0.441895</td>\n",
       "      <td>68.689003</td>\n",
       "      <td>0.0</td>\n",
       "    </tr>\n",
       "    <tr>\n",
       "      <th>520</th>\n",
       "      <td>127.959503</td>\n",
       "      <td>12.414577</td>\n",
       "      <td>0.096092</td>\n",
       "      <td>0.445316</td>\n",
       "      <td>71.480003</td>\n",
       "      <td>0.0</td>\n",
       "    </tr>\n",
       "    <tr>\n",
       "      <th>540</th>\n",
       "      <td>127.944839</td>\n",
       "      <td>12.411373</td>\n",
       "      <td>0.107857</td>\n",
       "      <td>0.481313</td>\n",
       "      <td>61.999001</td>\n",
       "      <td>0.0</td>\n",
       "    </tr>\n",
       "    <tr>\n",
       "      <th>560</th>\n",
       "      <td>127.929718</td>\n",
       "      <td>12.408690</td>\n",
       "      <td>0.154495</td>\n",
       "      <td>0.517803</td>\n",
       "      <td>57.948002</td>\n",
       "      <td>0.0</td>\n",
       "    </tr>\n",
       "    <tr>\n",
       "      <th>580</th>\n",
       "      <td>127.915436</td>\n",
       "      <td>12.407626</td>\n",
       "      <td>0.193213</td>\n",
       "      <td>0.571453</td>\n",
       "      <td>46.624001</td>\n",
       "      <td>0.0</td>\n",
       "    </tr>\n",
       "    <tr>\n",
       "      <th>600</th>\n",
       "      <td>127.905380</td>\n",
       "      <td>12.409315</td>\n",
       "      <td>0.247465</td>\n",
       "      <td>0.599759</td>\n",
       "      <td>38.269001</td>\n",
       "      <td>0.0</td>\n",
       "    </tr>\n",
       "    <tr>\n",
       "      <th>620</th>\n",
       "      <td>127.891495</td>\n",
       "      <td>12.411759</td>\n",
       "      <td>0.184843</td>\n",
       "      <td>0.468013</td>\n",
       "      <td>36.919998</td>\n",
       "      <td>0.0</td>\n",
       "    </tr>\n",
       "    <tr>\n",
       "      <th>640</th>\n",
       "      <td>127.879539</td>\n",
       "      <td>12.402525</td>\n",
       "      <td>0.152802</td>\n",
       "      <td>0.506961</td>\n",
       "      <td>37.973999</td>\n",
       "      <td>0.0</td>\n",
       "    </tr>\n",
       "    <tr>\n",
       "      <th>660</th>\n",
       "      <td>127.875793</td>\n",
       "      <td>12.401749</td>\n",
       "      <td>0.185628</td>\n",
       "      <td>0.527944</td>\n",
       "      <td>36.383999</td>\n",
       "      <td>0.0</td>\n",
       "    </tr>\n",
       "    <tr>\n",
       "      <th>680</th>\n",
       "      <td>127.874939</td>\n",
       "      <td>12.392055</td>\n",
       "      <td>0.165111</td>\n",
       "      <td>0.614340</td>\n",
       "      <td>41.257000</td>\n",
       "      <td>0.0</td>\n",
       "    </tr>\n",
       "    <tr>\n",
       "      <th>700</th>\n",
       "      <td>127.874069</td>\n",
       "      <td>12.397201</td>\n",
       "      <td>0.146147</td>\n",
       "      <td>0.482745</td>\n",
       "      <td>56.452000</td>\n",
       "      <td>0.0</td>\n",
       "    </tr>\n",
       "  </tbody>\n",
       "</table>\n",
       "</div>"
      ],
      "text/plain": [
       "              Max Flow  Max Stage  Max Froude  Max Velocity   Max Mode  \\\n",
       "Node Label                                                               \n",
       "m60         129.956375  12.950798    0.377594      1.243849   7.432000   \n",
       "m40         129.909225  12.961239    0.606789      1.400472   4.141000   \n",
       "m20         129.842499  12.964163    0.598122      1.480043   4.546000   \n",
       "0           129.750656  12.967451    0.233659      0.800559  20.739000   \n",
       "20          129.645691  12.965852    0.251476      0.815792  26.483999   \n",
       "40          129.553284  12.961924    0.215728      0.750724  41.956001   \n",
       "60          129.476395  12.958069    0.192954      0.721114  50.508999   \n",
       "80          129.405350  12.957767    0.162951      0.602645  54.208000   \n",
       "BRIDU       129.332504  12.957102    0.172851      0.604913  49.014999   \n",
       "BRIDD       129.332504  12.442711    0.190365      0.650670  49.012001   \n",
       "120         129.268768  12.436338    0.245741      0.828063  42.707001   \n",
       "140         129.197723  12.436707    0.258089      0.737995  41.422001   \n",
       "160         129.114655  12.437950    0.226414      0.637940  47.091000   \n",
       "180         129.024933  12.436773    0.237118      0.669699  39.495998   \n",
       "200         128.933853  12.436769    0.183779      0.532175  50.410000   \n",
       "220         128.846161  12.436559    0.172171      0.487473  57.005001   \n",
       "240         128.758484  12.437496    0.073926      0.243193  74.527000   \n",
       "260         128.669739  12.436918    0.074740      0.241838  73.473999   \n",
       "280         128.586884  12.434457    0.133313      0.413232  78.231003   \n",
       "300         128.507111  12.433598    0.127651      0.403048  79.925003   \n",
       "320         128.421539  12.432284    0.133324      0.453164  74.102997   \n",
       "340         128.326965  12.433143    0.187776      0.421789  65.988998   \n",
       "360         128.240631  12.432030    0.089528      0.309434  75.278999   \n",
       "380         128.173981  12.430616    0.102107      0.349187  76.806000   \n",
       "400         128.113434  12.428854    0.126967      0.411054  64.651001   \n",
       "420         128.071930  12.426296    0.160984      0.504241  56.759998   \n",
       "440         128.037003  12.422903    0.128419      0.444644  63.591000   \n",
       "460         128.008881  12.420507    0.105676      0.426053  72.363998   \n",
       "480         127.989349  12.418867    0.095256      0.421599  76.614998   \n",
       "500         127.974213  12.416439    0.098070      0.441895  68.689003   \n",
       "520         127.959503  12.414577    0.096092      0.445316  71.480003   \n",
       "540         127.944839  12.411373    0.107857      0.481313  61.999001   \n",
       "560         127.929718  12.408690    0.154495      0.517803  57.948002   \n",
       "580         127.915436  12.407626    0.193213      0.571453  46.624001   \n",
       "600         127.905380  12.409315    0.247465      0.599759  38.269001   \n",
       "620         127.891495  12.411759    0.184843      0.468013  36.919998   \n",
       "640         127.879539  12.402525    0.152802      0.506961  37.973999   \n",
       "660         127.875793  12.401749    0.185628      0.527944  36.383999   \n",
       "680         127.874939  12.392055    0.165111      0.614340  41.257000   \n",
       "700         127.874069  12.397201    0.146147      0.482745  56.452000   \n",
       "\n",
       "            Max State  \n",
       "Node Label             \n",
       "m60               0.0  \n",
       "m40               0.0  \n",
       "m20               0.0  \n",
       "0                 0.0  \n",
       "20                0.0  \n",
       "40                0.0  \n",
       "60                0.0  \n",
       "80                0.0  \n",
       "BRIDU             0.0  \n",
       "BRIDD             0.0  \n",
       "120               0.0  \n",
       "140               0.0  \n",
       "160               0.0  \n",
       "180               0.0  \n",
       "200               0.0  \n",
       "220               0.0  \n",
       "240               0.0  \n",
       "260               0.0  \n",
       "280               0.0  \n",
       "300               0.0  \n",
       "320               0.0  \n",
       "340               0.0  \n",
       "360               0.0  \n",
       "380               0.0  \n",
       "400               0.0  \n",
       "420               0.0  \n",
       "440               0.0  \n",
       "460               0.0  \n",
       "480               0.0  \n",
       "500               0.0  \n",
       "520               0.0  \n",
       "540               0.0  \n",
       "560               0.0  \n",
       "580               0.0  \n",
       "600               0.0  \n",
       "620               0.0  \n",
       "640               0.0  \n",
       "660               0.0  \n",
       "680               0.0  \n",
       "700               0.0  "
      ]
     },
     "execution_count": 35,
     "metadata": {},
     "output_type": "execute_result"
    }
   ],
   "source": [
    "max_results = zzn.to_dataframe(result_type='max')\n",
    "max_results"
   ]
  },
  {
   "attachments": {},
   "cell_type": "markdown",
   "metadata": {},
   "source": [
    "Looking at the zzn user guide can you:   \n",
    "* Find a way to display the lowest velocity?\n",
    "* Find the time at which the maximum velocity occurs?\n",
    "\n",
    "Looking into the pandas dataframe documentation could you: \n",
    "* Find a way to slice the data so only the first five rows are displayed?"
   ]
  },
  {
   "cell_type": "code",
   "execution_count": null,
   "metadata": {},
   "outputs": [],
   "source": [
    "# have a go here! \n",
    "\n"
   ]
  },
  {
   "attachments": {},
   "cell_type": "markdown",
   "metadata": {},
   "source": [
    "Plotting results "
   ]
  },
  {
   "cell_type": "code",
   "execution_count": 37,
   "metadata": {},
   "outputs": [
    {
     "ename": "ImportError",
     "evalue": "matplotlib is required for plotting when the default backend \"matplotlib\" is selected.",
     "output_type": "error",
     "traceback": [
      "\u001b[1;31m---------------------------------------------------------------------------\u001b[0m",
      "\u001b[1;31mImportError\u001b[0m                               Traceback (most recent call last)",
      "Cell \u001b[1;32mIn[37], line 1\u001b[0m\n\u001b[1;32m----> 1\u001b[0m max_results[\u001b[39m'\u001b[39;49m\u001b[39mMax Flow\u001b[39;49m\u001b[39m'\u001b[39;49m]\u001b[39m.\u001b[39;49mplot()\n",
      "File \u001b[1;32mc:\\Users\\LAMBERD3\\OneDrive - Jacobs\\Documents\\Python\\work_env\\Lib\\site-packages\\pandas-1.5.3-py3.11-win-amd64.egg\\pandas\\plotting\\_core.py:920\u001b[0m, in \u001b[0;36mPlotAccessor.__call__\u001b[1;34m(self, *args, **kwargs)\u001b[0m\n\u001b[0;32m    919\u001b[0m \u001b[39mdef\u001b[39;00m \u001b[39m__call__\u001b[39m(\u001b[39mself\u001b[39m, \u001b[39m*\u001b[39margs, \u001b[39m*\u001b[39m\u001b[39m*\u001b[39mkwargs):\n\u001b[1;32m--> 920\u001b[0m     plot_backend \u001b[39m=\u001b[39m _get_plot_backend(kwargs\u001b[39m.\u001b[39;49mpop(\u001b[39m\"\u001b[39;49m\u001b[39mbackend\u001b[39;49m\u001b[39m\"\u001b[39;49m, \u001b[39mNone\u001b[39;49;00m))\n\u001b[0;32m    922\u001b[0m     x, y, kind, kwargs \u001b[39m=\u001b[39m \u001b[39mself\u001b[39m\u001b[39m.\u001b[39m_get_call_args(\n\u001b[0;32m    923\u001b[0m         plot_backend\u001b[39m.\u001b[39m\u001b[39m__name__\u001b[39m, \u001b[39mself\u001b[39m\u001b[39m.\u001b[39m_parent, args, kwargs\n\u001b[0;32m    924\u001b[0m     )\n\u001b[0;32m    926\u001b[0m     kind \u001b[39m=\u001b[39m \u001b[39mself\u001b[39m\u001b[39m.\u001b[39m_kind_aliases\u001b[39m.\u001b[39mget(kind, kind)\n",
      "File \u001b[1;32mc:\\Users\\LAMBERD3\\OneDrive - Jacobs\\Documents\\Python\\work_env\\Lib\\site-packages\\pandas-1.5.3-py3.11-win-amd64.egg\\pandas\\plotting\\_core.py:1886\u001b[0m, in \u001b[0;36m_get_plot_backend\u001b[1;34m(backend)\u001b[0m\n\u001b[0;32m   1883\u001b[0m \u001b[39mif\u001b[39;00m backend_str \u001b[39min\u001b[39;00m _backends:\n\u001b[0;32m   1884\u001b[0m     \u001b[39mreturn\u001b[39;00m _backends[backend_str]\n\u001b[1;32m-> 1886\u001b[0m module \u001b[39m=\u001b[39m _load_backend(backend_str)\n\u001b[0;32m   1887\u001b[0m _backends[backend_str] \u001b[39m=\u001b[39m module\n\u001b[0;32m   1888\u001b[0m \u001b[39mreturn\u001b[39;00m module\n",
      "File \u001b[1;32mc:\\Users\\LAMBERD3\\OneDrive - Jacobs\\Documents\\Python\\work_env\\Lib\\site-packages\\pandas-1.5.3-py3.11-win-amd64.egg\\pandas\\plotting\\_core.py:1817\u001b[0m, in \u001b[0;36m_load_backend\u001b[1;34m(backend)\u001b[0m\n\u001b[0;32m   1815\u001b[0m         module \u001b[39m=\u001b[39m importlib\u001b[39m.\u001b[39mimport_module(\u001b[39m\"\u001b[39m\u001b[39mpandas.plotting._matplotlib\u001b[39m\u001b[39m\"\u001b[39m)\n\u001b[0;32m   1816\u001b[0m     \u001b[39mexcept\u001b[39;00m \u001b[39mImportError\u001b[39;00m:\n\u001b[1;32m-> 1817\u001b[0m         \u001b[39mraise\u001b[39;00m \u001b[39mImportError\u001b[39;00m(\n\u001b[0;32m   1818\u001b[0m             \u001b[39m\"\u001b[39m\u001b[39mmatplotlib is required for plotting when the \u001b[39m\u001b[39m\"\u001b[39m\n\u001b[0;32m   1819\u001b[0m             \u001b[39m'\u001b[39m\u001b[39mdefault backend \u001b[39m\u001b[39m\"\u001b[39m\u001b[39mmatplotlib\u001b[39m\u001b[39m\"\u001b[39m\u001b[39m is selected.\u001b[39m\u001b[39m'\u001b[39m\n\u001b[0;32m   1820\u001b[0m         ) \u001b[39mfrom\u001b[39;00m \u001b[39mNone\u001b[39m\n\u001b[0;32m   1821\u001b[0m     \u001b[39mreturn\u001b[39;00m module\n\u001b[0;32m   1823\u001b[0m found_backend \u001b[39m=\u001b[39m \u001b[39mFalse\u001b[39;00m\n",
      "\u001b[1;31mImportError\u001b[0m: matplotlib is required for plotting when the default backend \"matplotlib\" is selected."
     ]
    }
   ],
   "source": [
    "max_results['Max Flow'].plot()"
   ]
  }
 ],
 "metadata": {
  "kernelspec": {
   "display_name": "Python 3",
   "language": "python",
   "name": "python3"
  },
  "language_info": {
   "codemirror_mode": {
    "name": "ipython",
    "version": 3
   },
   "file_extension": ".py",
   "mimetype": "text/x-python",
   "name": "python",
   "nbconvert_exporter": "python",
   "pygments_lexer": "ipython3",
   "version": "3.11.0"
  },
  "orig_nbformat": 4,
  "vscode": {
   "interpreter": {
    "hash": "969e6a634f736d42dd195af11f0b94d0537b8d2b35fe68298e3b384d9719896b"
   }
  }
 },
 "nbformat": 4,
 "nbformat_minor": 2
}

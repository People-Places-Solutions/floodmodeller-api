{
 "cells": [
  {
   "attachments": {},
   "cell_type": "markdown",
   "metadata": {},
   "source": [
    "# Get Started!\n",
    "<hr>"
   ]
  },
  {
   "attachments": {},
   "cell_type": "markdown",
   "metadata": {},
   "source": [
    "## Jupyter Notebook Basics\n",
    "Jupyter Notebook is an interactive computational environment that allows you to write and run code, and combine it with explanatory text and visualizations. In this notebook, we will walk you through the basics of how to use Jupyter Notebook to write and run code.\n",
    "\n",
    "The notebook is divided into cells, which can contain either code or text. To add a new cell, click on the \"+\" button on the toolbar. To change the cell type from code to text, click on the cell and select \"Markdown\" from the dropdown menu in the toolbar.\n",
    "\n",
    "To run a code cell, click on the cell and press \"Shift + Enter\". The output of the code will be displayed below the cell. To edit a cell, simply click on it and start typing.\n",
    "\n",
    "## Starting Python\n",
    "You may need to point the notebook to the right version of python. To do this, simply look at the top right corner of the notebook. You should see a dropdown menu that says \"Kernel\". Click on this menu, and you'll see a list of available kernels, choose the Python one.\n",
    "\n",
    "Once you've selected the appropriate kernel, you're ready to start writing and running your code in Jupyter Notebook!"
   ]
  },
  {
   "attachments": {},
   "cell_type": "markdown",
   "metadata": {},
   "source": [
    "# Run some code!"
   ]
  },
  {
   "attachments": {},
   "cell_type": "markdown",
   "metadata": {},
   "source": [
    "This cell imports the pandas library as 'pd' and loads a csv file into a DataFrame."
   ]
  },
  {
   "cell_type": "code",
   "execution_count": 1,
   "metadata": {},
   "outputs": [],
   "source": [
    "import pandas as pd\n",
    "network = pd.read_csv(\"data/network.csv\")"
   ]
  },
  {
   "attachments": {},
   "cell_type": "markdown",
   "metadata": {},
   "source": [
    "This cell previews the top 6 rows of the table"
   ]
  },
  {
   "cell_type": "code",
   "execution_count": 2,
   "metadata": {},
   "outputs": [
    {
     "data": {
      "text/html": [
       "<div>\n",
       "<style scoped>\n",
       "    .dataframe tbody tr th:only-of-type {\n",
       "        vertical-align: middle;\n",
       "    }\n",
       "\n",
       "    .dataframe tbody tr th {\n",
       "        vertical-align: top;\n",
       "    }\n",
       "\n",
       "    .dataframe thead th {\n",
       "        text-align: right;\n",
       "    }\n",
       "</style>\n",
       "<table border=\"1\" class=\"dataframe\">\n",
       "  <thead>\n",
       "    <tr style=\"text-align: right;\">\n",
       "      <th></th>\n",
       "      <th>Node Label</th>\n",
       "      <th>Max Flow</th>\n",
       "      <th>Max Stage</th>\n",
       "      <th>Max Froude</th>\n",
       "      <th>Max Velocity</th>\n",
       "      <th>Max Mode</th>\n",
       "      <th>Max State</th>\n",
       "    </tr>\n",
       "  </thead>\n",
       "  <tbody>\n",
       "    <tr>\n",
       "      <th>0</th>\n",
       "      <td>resin</td>\n",
       "      <td>7.296</td>\n",
       "      <td>70.543</td>\n",
       "      <td>0.008</td>\n",
       "      <td>0.041</td>\n",
       "      <td>66.00</td>\n",
       "      <td>0</td>\n",
       "    </tr>\n",
       "    <tr>\n",
       "      <th>1</th>\n",
       "      <td>CS26</td>\n",
       "      <td>1.000</td>\n",
       "      <td>70.031</td>\n",
       "      <td>0.037</td>\n",
       "      <td>0.112</td>\n",
       "      <td>67.92</td>\n",
       "      <td>0</td>\n",
       "    </tr>\n",
       "    <tr>\n",
       "      <th>2</th>\n",
       "      <td>CS25</td>\n",
       "      <td>1.011</td>\n",
       "      <td>70.031</td>\n",
       "      <td>0.035</td>\n",
       "      <td>0.108</td>\n",
       "      <td>67.88</td>\n",
       "      <td>0</td>\n",
       "    </tr>\n",
       "    <tr>\n",
       "      <th>3</th>\n",
       "      <td>RD25Sd</td>\n",
       "      <td>0.000</td>\n",
       "      <td>69.081</td>\n",
       "      <td>0.000</td>\n",
       "      <td>0.000</td>\n",
       "      <td>70.70</td>\n",
       "      <td>0</td>\n",
       "    </tr>\n",
       "    <tr>\n",
       "      <th>4</th>\n",
       "      <td>CS24</td>\n",
       "      <td>1.021</td>\n",
       "      <td>70.031</td>\n",
       "      <td>0.033</td>\n",
       "      <td>0.103</td>\n",
       "      <td>67.84</td>\n",
       "      <td>0</td>\n",
       "    </tr>\n",
       "  </tbody>\n",
       "</table>\n",
       "</div>"
      ],
      "text/plain": [
       "  Node Label  Max Flow  Max Stage  Max Froude  Max Velocity  Max Mode  \\\n",
       "0      resin     7.296     70.543       0.008         0.041     66.00   \n",
       "1       CS26     1.000     70.031       0.037         0.112     67.92   \n",
       "2       CS25     1.011     70.031       0.035         0.108     67.88   \n",
       "3     RD25Sd     0.000     69.081       0.000         0.000     70.70   \n",
       "4       CS24     1.021     70.031       0.033         0.103     67.84   \n",
       "\n",
       "   Max State  \n",
       "0          0  \n",
       "1          0  \n",
       "2          0  \n",
       "3          0  \n",
       "4          0  "
      ]
     },
     "execution_count": 2,
     "metadata": {},
     "output_type": "execute_result"
    }
   ],
   "source": [
    "network.head()"
   ]
  },
  {
   "attachments": {},
   "cell_type": "markdown",
   "metadata": {},
   "source": [
    "# Loading the Floodmodeller API"
   ]
  },
  {
   "attachments": {},
   "cell_type": "markdown",
   "metadata": {},
   "source": [
    "Lets load a DAT file using the flood modeller API."
   ]
  },
  {
   "cell_type": "code",
   "execution_count": 4,
   "metadata": {},
   "outputs": [],
   "source": [
    "from floodmodeller_api import DAT"
   ]
  },
  {
   "cell_type": "code",
   "execution_count": 6,
   "metadata": {},
   "outputs": [
    {
     "data": {
      "text/plain": [
       "<floodmodeller_api Class: DAT(filepath=/workspaces/floodmodeller-api/demo/data/EX3.DAT)>"
      ]
     },
     "execution_count": 6,
     "metadata": {},
     "output_type": "execute_result"
    }
   ],
   "source": [
    "ex3_dat = DAT(\"data/EX3.DAT\")\n",
    "ex3_dat"
   ]
  }
 ],
 "metadata": {
  "kernelspec": {
   "display_name": "fm-api",
   "language": "python",
   "name": "python3"
  },
  "language_info": {
   "codemirror_mode": {
    "name": "ipython",
    "version": 3
   },
   "file_extension": ".py",
   "mimetype": "text/x-python",
   "name": "python",
   "nbconvert_exporter": "python",
   "pygments_lexer": "ipython3",
   "version": "3.11.0"
  },
  "orig_nbformat": 4
 },
 "nbformat": 4,
 "nbformat_minor": 2
}

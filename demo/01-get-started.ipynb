{
 "cells": [
  {
   "attachments": {},
   "cell_type": "markdown",
   "metadata": {},
   "source": [
    "# Get Started!\n",
    "<hr>"
   ]
  },
  {
   "attachments": {},
   "cell_type": "markdown",
   "metadata": {},
   "source": [
    "## Jupyter Notebook Basics\n",
    "Jupyter Notebook is an interactive computational environment that allows you to write and run code, and combine it with explanatory text and visualizations. In this notebook, we will walk you through the basics of how to use Jupyter Notebook to write and run code.\n",
    "\n",
    "The notebook is divided into cells, which can contain either code or text. To add a new cell, click on the \"+\" button on the toolbar. To change the cell type from code to text, click on the cell and select \"Markdown\" from the dropdown menu in the toolbar.\n",
    "\n",
    "To run a code cell, click on the cell and press \"Shift + Enter\". The output of the code will be displayed below the cell. To edit a cell, simply click on it and start typing.\n",
    "\n",
    "## Starting Python\n",
    "You may need to point the notebook to the right version of python. To do this, simply look at the top right corner of the notebook. You should see a dropdown menu that says \"Kernel\". Click on this menu, and you'll see a list of available kernels, choose the Python one.\n",
    "\n",
    "Once you've selected the appropriate kernel, you're ready to start writing and running your code in Jupyter Notebook!\n"
   ]
  },
  {
   "attachments": {},
   "cell_type": "markdown",
   "metadata": {},
   "source": [
    "## Python introduction \n",
    "\n",
    "Before showing some features of the FloodModeller API, if you aren't too familiar with programing languages or python feel free to work through the following section to familiarise yourself.  \n",
    "\n",
    "We will only cover the very basics to get you started with the Flood Modeller API. If you wish to learn more about python, there are many other free (and paid) courses online to teach you, we recommend the W3school tutorial available at: https://www.w3schools.com/python/default.asp    \n",
    "\n",
    "\n",
    "Throughout this notebook you will find more specific links to support your learning and go more in depth on certain subjects if you wish for further your learning.\n"
   ]
  },
  {
   "attachments": {},
   "cell_type": "markdown",
   "metadata": {},
   "source": [
    "### Printing and operations\n",
    "\n",
    "One of the most important and straightforward tasks you can perform is a **print statement**.\n",
    "\n",
    "For Python to recognise text it is defined by being held inside quotation marks. This is called a <ins>**\"string\"**</ins> in python and is a data type. We will see other types of data later in the notebook.  \n",
    "\n",
    "Below is a cell you can run which will print the text within the parenthese and enclosed in quotation marks. \n",
    "* Try running it by clicking on the cell and pressing **\"Shift + Enter\"** or by pressing the play button on the top left corner of the cell. You will see the text   ` Hello, world!` printed below the code cell as an output."
   ]
  },
  {
   "cell_type": "code",
   "execution_count": null,
   "metadata": {},
   "outputs": [],
   "source": [
    "# First print statement\n",
    "print(\"Hello, world!\")"
   ]
  },
  {
   "attachments": {},
   "cell_type": "markdown",
   "metadata": {},
   "source": [
    "* Let's check that python recognises `Hello, world!` as a string by calling type() on it. "
   ]
  },
  {
   "cell_type": "code",
   "execution_count": null,
   "metadata": {},
   "outputs": [],
   "source": [
    "# Check that type is 'str' \n",
    "print(type(\"Hello, world!\"))"
   ]
  },
  {
   "attachments": {},
   "cell_type": "markdown",
   "metadata": {},
   "source": [
    "We can print strings of text but also we can print the result of arithmetic operations!\n",
    "Notice the difference between `print(1+3)` and `print(\"1+3\")` by running the cells below."
   ]
  },
  {
   "cell_type": "code",
   "execution_count": null,
   "metadata": {},
   "outputs": [],
   "source": [
    "# Print the result of the opporation\n",
    "print(1+3)"
   ]
  },
  {
   "cell_type": "code",
   "execution_count": null,
   "metadata": {},
   "outputs": [],
   "source": [
    "# Print the text in quotation marks\n",
    "print(\"1+3\")"
   ]
  },
  {
   "attachments": {},
   "cell_type": "markdown",
   "metadata": {},
   "source": [
    "As you can see, the first cell prints returns `4` as it recognises 1 and 3 as <ins>**integers**</ins> and + as an opperation symbol. When quotation marks are used, the content of the print statement is recognised as a string and is printed as is; `1+3`\n",
    "\n",
    "The following table shows some examples of common arithmetic operations you may wish to perform: \n",
    "\n",
    "| Operation      | Symbol | Example    |\n",
    "|----------------|--------|------------|\n",
    "| Addition       | +      | 1 + 2 = 3  |\n",
    "| Subtraction    | -      | 5 - 4 = 1  |\n",
    "| Multiplication | *      | 2 * 4 = 8  |\n",
    "| Division       | /      | 6 / 3 = 2  |\n",
    "| Exponent       | **     | 3 ** 2 = 9 |\n",
    "\n",
    "Note that Python follows order of operation of parenthesis, exponents, multiply or divide, addition and substraction (PEDMAS)"
   ]
  },
  {
   "attachments": {},
   "cell_type": "markdown",
   "metadata": {},
   "source": [
    "To learn more about print() visit: https://www.w3schools.com/python/ref_func_print.asp   \n",
    "To learn more about type() visit: https://www.w3schools.com/python/ref_func_type.asp   \n",
    "To learn more about strings visit: https://www.w3schools.com/python/python_strings.asp    \n",
    "To learn more about integers and numbers visit: https://www.w3schools.com/python/python_numbers.asp    \n",
    "To learn more about arithmetic operators visit: https://www.w3schools.com/python/python_operators.asp    "
   ]
  },
  {
   "attachments": {},
   "cell_type": "markdown",
   "metadata": {},
   "source": [
    "### Comments\n",
    "\n",
    "You will notice comments throughout code. These are annotations of the code to help the user understand what it does which are preceded by the pound sign (#).   \n",
    "As complexity of code increases, annotation becomes more important not only for others, but also for yourself to remember and understand what your code does. \n",
    "\n",
    "* Try running the cell below, you will notice an error message will pop up.  \n",
    "\n",
    "* Now try running it again but add in the pound sign (#) **before** the first line of text so it looks like this: `# Multiply 3 by 2`.  \n",
    "This will comment out the first line indicating that the line is to be ignored by the computer."
   ]
  },
  {
   "cell_type": "code",
   "execution_count": null,
   "metadata": {},
   "outputs": [],
   "source": [
    "# Have a go!\n",
    " Multiply 3*2 \n",
    "\n",
    "print(3*2)"
   ]
  },
  {
   "attachments": {},
   "cell_type": "markdown",
   "metadata": {},
   "source": [
    "To learn more about comments visit: https://www.w3schools.com/python/python_comments.asp    \n",
    "To learn more about python syntax visit: https://www.w3schools.com/python/python_syntax.asp  "
   ]
  },
  {
   "attachments": {},
   "cell_type": "markdown",
   "metadata": {},
   "source": [
    "### Variables and comparisons\n",
    "\n",
    "So far we have ran some arithmetic operations, used print statement, looked into comments and have used either **<ins>string**</ins> or **<ins>integer**</ins> data types. Let's now look into variables and comparisons.\n",
    "\n",
    "A variable is used to save data so we can use it again later. Let's see an example below where we have two variables which represents the size of your rectangular room in meters; `length` and `width`. Make sure you run the cell below so length and width are created as 3 and 4 respectively.  \n",
    "\n",
    "Notice how we've used a comma to split our print statement. To learn more about this go to: "
   ]
  },
  {
   "cell_type": "code",
   "execution_count": null,
   "metadata": {},
   "outputs": [],
   "source": [
    "# Create variables length and width with assigned values\n",
    "length = 3\n",
    "width = 4\n",
    "\n",
    "print(\"You've just created your first two variables! Width: \", width, \"and legth: \", length)"
   ]
  },
  {
   "attachments": {},
   "cell_type": "markdown",
   "metadata": {},
   "source": [
    "When creating a variable, choose a short and descriptive name and use `=` to asign the value to the variable name. Note that variable names:\n",
    "* Can't have spaces (e.g., `new area` is not allowed)\n",
    "* Must start with either a letter or underscore (e.g., `1_length` is not allowed)\n",
    "* Can be composed **only** of letters, numbers and underscores (e.g., `length!` is not allowed)\n",
    "\n",
    "\n",
    "After assigning the values to length and width, lets calculate the area of our room by multiplying our our two variables and saving the answer as a new variable `area`. We can check the value of `Area` by calling print on it. "
   ]
  },
  {
   "cell_type": "code",
   "execution_count": null,
   "metadata": {},
   "outputs": [],
   "source": [
    "# Calculate area\n",
    "area = length * width \n",
    "\n",
    "print(area)"
   ]
  },
  {
   "attachments": {},
   "cell_type": "markdown",
   "metadata": {},
   "source": [
    "You're moving house and you want a bigger room! Your new room is square and has a side of 4m so lets create a new variable `side` to represent this and then save your new rooms area as `new_area`"
   ]
  },
  {
   "cell_type": "code",
   "execution_count": null,
   "metadata": {},
   "outputs": [],
   "source": [
    "# New room side\n",
    "side = 4\n",
    "\n",
    "# New room area\n",
    "new_area = side ** 2\n",
    "\n",
    "print(new_area)"
   ]
  },
  {
   "attachments": {},
   "cell_type": "markdown",
   "metadata": {},
   "source": [
    "The following table contains the 8 comparison operations available in Python. Please note that if you wish to check if two values are the same, use `==` not `=` as a single equals. e.g.: \n",
    "* `a == 1` will check if a is equal to 1  \n",
    "* `a = 1` will set the value of a to 1 \n",
    "\n",
    "| Operation | Meaning                 |\n",
    "|-----------|-------------------------|\n",
    "| <         | strictly less than      |\n",
    "| <=        | less than or equal      |\n",
    "| >         | strictly greater than   |\n",
    "| >=        | greater than or equal   |\n",
    "| ==        | equal                   |\n",
    "| !=        | not equal               |\n",
    "| is        | object identity         |\n",
    "| is not    | negated object identity |\n",
    "\n",
    "Let's see if our new room is larger than our original room."
   ]
  },
  {
   "cell_type": "code",
   "execution_count": null,
   "metadata": {},
   "outputs": [],
   "source": [
    "# Compare the area of the new room and old room\n",
    "print(new_area > area) \n",
    "\n",
    "print(type(new_area > area)) # prints the data type"
   ]
  },
  {
   "attachments": {},
   "cell_type": "markdown",
   "metadata": {},
   "source": [
    "Notice how comparing `new_area` to `area` retuns \"True\" as your new room is indeed larger than your previous area. This is a new data type (like string and integer) called a <ins>**Boolean**</ins>.  \n",
    "<ins>**Booleans**</ins> can only ever be `True` or `False` and are spelt with the first letter capitalised. The following table outlines the various boolean operations.\n",
    "\n",
    "\n",
    "| Operation | Result                               |\n",
    "|-----------|--------------------------------------|\n",
    "| x or y    | if x is true, then x, else y         |\n",
    "| x and y   | if x is false, then x, else y        |\n",
    "| not x     | if x is false, then True, else False |"
   ]
  },
  {
   "attachments": {},
   "cell_type": "markdown",
   "metadata": {},
   "source": [
    "When you assign a new value to the same variable, the old value is overwritten so be sure you don't need the old variable before overwriting it. Or you can name the variable something new.\n",
    "\n",
    "Turns out you made an error measuring your current room and the length is in fact 3.2 meters and the width is 5m.\n",
    "\n",
    "* Have a go in the cell below at reassigning the new values for width and length, calculating the real area of your room and then comparing this with the size of the room in your new house. "
   ]
  },
  {
   "cell_type": "code",
   "execution_count": null,
   "metadata": {},
   "outputs": [],
   "source": [
    "# Have a go here! \n",
    "# Reassign values for length and width \n",
    "length = \n",
    "width = \n",
    "\n",
    "# Calculate the area\n",
    "area = length * width \n",
    "\n",
    "# Compare old and new area \n",
    "new_area > area "
   ]
  },
  {
   "attachments": {},
   "cell_type": "markdown",
   "metadata": {},
   "source": [
    "If you've reassigned the values correctly to 3.2 and 5m, the comparison should output `False`. This is because both `area` and `new_area` are 16 square meters and `new_area` is not **strickly greater** than area. \n",
    "* Looking at the comparison operators table can you figure out how to add in one character to the cell above and make the comparison True? "
   ]
  },
  {
   "attachments": {},
   "cell_type": "markdown",
   "metadata": {},
   "source": [
    "To learn more about variables visit: https://www.w3schools.com/python/python_variables.asp   \n",
    "To learn more about comparison and logical operators visit: https://www.w3schools.com/python/python_operators.asp "
   ]
  },
  {
   "attachments": {},
   "cell_type": "markdown",
   "metadata": {},
   "source": [
    "### Data types\n",
    "\n",
    "So far we've seen string, integer and boolean data types. When we updated the value of length to a decimal number (3.2) we created a **<ins>float**</ins> which is a numerical value with decimal places. In the following cell you can see that although `area` and `new_area` are both equal to 16, if you print `area` you will notice that it displays to one decimal place.  \n",
    "\n",
    "By checking the type we see that `area` and `new_area` are respectively a float and an interger and if we use the `==` to check if these values are equal we notice that indeed they are (despite being different numerical types)."
   ]
  },
  {
   "cell_type": "code",
   "execution_count": null,
   "metadata": {},
   "outputs": [],
   "source": [
    "# Print the area values, check their data types and compare the values\n",
    "\n",
    "print(area)\n",
    "print(new_area)\n",
    "\n",
    "print(type(area))\n",
    "print(type(new_area))\n",
    "\n",
    "print(area == new_area)"
   ]
  },
  {
   "attachments": {},
   "cell_type": "markdown",
   "metadata": {},
   "source": [
    "To learn more about data types visit: https://www.w3schools.com/python/python_datatypes.asp"
   ]
  },
  {
   "attachments": {},
   "cell_type": "markdown",
   "metadata": {},
   "source": [
    "### Lists and loops\n",
    "\n",
    "Now we have the basics covered lets look into creating a list and looping through it! \n",
    "\n",
    "Lists are used to store multiple items of a single variable and are saved with the same naming convention and a single equals sign followed by the content of the list in square brackets with items seperated by a comma. e.g., `list = [ item1, item2, item 3]`  \n",
    "\n",
    "Lists can be made up of any data type or a mix of data types. `list_02 = [\"string\", 1.05, True, 3]` is a list with a string, a float, a boolean and an integer.  \n",
    "\n",
    "You can access items in a list by referering to their index which starts at 0 so \"string\" can be called through `list_02[0]`\n",
    "\n",
    "Run the next cell to create a list with 5 floats, then print \"first item: \" followed by the first item in our list. Notice how we've used a comma to split some text we're printing before the item in our list."
   ]
  },
  {
   "cell_type": "code",
   "execution_count": null,
   "metadata": {},
   "outputs": [],
   "source": [
    "# Create a list called my_list containing floats \n",
    "my_list = [0.5, 1.2, 2.4, 3.6, 2.9]\n",
    "\n",
    "print(\"first item: \" , my_list[0])"
   ]
  },
  {
   "attachments": {},
   "cell_type": "markdown",
   "metadata": {},
   "source": [
    "* Have a go at calling an index value of -1. This will return the final item in the list! \n",
    "* What happens if you call a value outside of the index such as 9? How about when you call -6? (delete this line or comment it out with a # after testing this)\n",
    "* Look at slicing a list by calling `my_list[0:3]` - This will print the first three items of the list. Remember that the first item in a list is `0`"
   ]
  },
  {
   "cell_type": "code",
   "execution_count": null,
   "metadata": {},
   "outputs": [],
   "source": [
    "# Have a go here! \n",
    "# Call -1 on my_list\n",
    "\n",
    "# Call a value outside of index. Then, comment it out with a # so the computer knows to ignore this.\n",
    "\n",
    "# Slice my_list to print just the first three items\n"
   ]
  },
  {
   "attachments": {},
   "cell_type": "markdown",
   "metadata": {},
   "source": [
    "Let's now print each item in the list by calling its index."
   ]
  },
  {
   "cell_type": "code",
   "execution_count": null,
   "metadata": {},
   "outputs": [],
   "source": [
    "print(\"first item: \" , my_list[0])\n",
    "print(\"second item: \" , my_list[1])\n",
    "print(\"third item: \" , my_list[2])\n",
    "print(\"fourth item: \" , my_list[3])\n",
    "print(\"fifth item: \" , my_list[4])"
   ]
  },
  {
   "attachments": {},
   "cell_type": "markdown",
   "metadata": {},
   "source": [
    "That was repetitive! You may be tempted to copy and paste the same line over and over again whilst updating the text and number to print each item but imagine if the list contained hundreds of items! This will be very boring, tedious and frustrating. It's also very likely that you'll eventually make mistakes too!     \n",
    "\n",
    "Lets look at looping so we can then execute a block of code repeatedly in less lines of code.  \n",
    "\n",
    "In the cell below, we first create our list, `other_list` containing the string we will print before each item in `my_list`. We then loop through each item `i` which will be equal to 0 then 1, then 2 etc unitl the end of `my_list`."
   ]
  },
  {
   "cell_type": "code",
   "execution_count": null,
   "metadata": {},
   "outputs": [],
   "source": [
    "# Create other list \n",
    "other_list = [\"first item: \", \"second item: \", \"third item: \" , \"fourth item: \", \"fifth item: \"]\n",
    "\n",
    "for i in range(len(my_list)):\n",
    "    print(other_list[i] , my_list[i])"
   ]
  },
  {
   "attachments": {},
   "cell_type": "markdown",
   "metadata": {},
   "source": [
    "To learn more about for loops visit: https://www.w3schools.com/python/python_for_loops.asp   \n",
    "To learn more about lists visit: https://www.w3schools.com/python/python_lists.asp    \n",
    "\n",
    "We have not mentioned them here but another form of looping is while loops.  \n",
    "Find out more by visiting: https://www.w3schools.com/python/python_while_loops.asp    "
   ]
  },
  {
   "attachments": {},
   "cell_type": "markdown",
   "metadata": {},
   "source": [
    "### Modules and classes\n",
    "\n",
    "So far we have only used the in-built python functions but there are thousands of libraries which we can use for all sorts of tasks! `pandas` is one such library which is a popular for data manipulation and analysis with structured data such as csv files (a single sheet in excel). We can also assign a nickname to the library to use as shorthand when calling it such as `pd` for pandas."
   ]
  },
  {
   "attachments": {},
   "cell_type": "markdown",
   "metadata": {},
   "source": [
    "This cell imports the pandas library as 'pd' and loads a csv file into a DataFrame."
   ]
  },
  {
   "cell_type": "code",
   "execution_count": null,
   "metadata": {},
   "outputs": [],
   "source": [
    "import pandas as pd\n",
    "network = pd.read_csv(\"data/network.csv\")"
   ]
  },
  {
   "attachments": {},
   "cell_type": "markdown",
   "metadata": {},
   "source": [
    "If you wish to only use a specific class within your module, you can import this specifically using the format `from` Module `import` Class.   \n",
    "\n",
    "A similar module is geopandas which allows you to work with geospatial data, such as shapefiles, in a similar structure to pandas. \n",
    "Other popular Python geospatial libraries are Shapely, Fiona, and PyProj."
   ]
  },
  {
   "attachments": {},
   "cell_type": "markdown",
   "metadata": {},
   "source": [
    "To learn more about modules visit: https://www.w3schools.com/python/python_modules.asp    \n",
    "To learn more about classes visit: https://www.w3schools.com/python/python_classes.asp   \n",
    "To learn more about pandas visit: https://www.w3schools.com/python/pandas/default.asp    \n",
    "To learn more about geopandas visit: https://geopandas.org/en/stable/getting_started/introduction.html "
   ]
  },
  {
   "attachments": {},
   "cell_type": "markdown",
   "metadata": {},
   "source": [
    "## Floodmodeller API\n",
    " \n",
    "It's essential to have some basic understanding of python pragramming to use the API however a lot of capabilities are unlocked with just a fundamental understanding of python.   \n",
    "Let's load in the latest version (v 0.4.1) of floodmodeller-api and check we have the most up to date version.  \n",
    "* Run the cell below with **\"Shift + Enter\"** and check which version of the API we have loaded."
   ]
  },
  {
   "cell_type": "code",
   "execution_count": null,
   "metadata": {},
   "outputs": [],
   "source": [
    "import floodmodeller_api\n",
    "print(floodmodeller_api.__version__)"
   ]
  },
  {
   "attachments": {},
   "cell_type": "markdown",
   "metadata": {},
   "source": [
    "For more of an overview of the API please visit: https://api.floodmodeller.com/api/getting_started/overview.html "
   ]
  },
  {
   "attachments": {},
   "cell_type": "markdown",
   "metadata": {},
   "source": [
    "### Dat Class\n",
    "\n",
    "The API is broken down into various classes;  `DAT`, `IEF`, `IED`, `XML2D`, `ZZN`, `INP`, `LF1` or `LF2`.  \n",
    "\n",
    "Let's import in the `DAT` class then we will read and load the \"EX3.DAT\" file as a variable."
   ]
  },
  {
   "cell_type": "code",
   "execution_count": 26,
   "metadata": {},
   "outputs": [
    {
     "data": {
      "text/plain": [
       "<floodmodeller_api Class: DAT(filepath=C:\\Users\\LAMBERD3\\Documents\\Python\\Flood_modeller_git\\floodmodeller-api\\demo\\data\\EX3.DAT)>"
      ]
     },
     "execution_count": 26,
     "metadata": {},
     "output_type": "execute_result"
    }
   ],
   "source": [
    "from floodmodeller_api import DAT\n",
    "\n",
    "ex3_dat = DAT(\"data/EX3.DAT\")\n",
    "ex3_dat #Look at dat"
   ]
  },
  {
   "attachments": {},
   "cell_type": "markdown",
   "metadata": {},
   "source": [
    "Let's look at the general parameters inside the dat file.  \n",
    "Only change these parameters if you are absolutely certain you are able to change these - node count for example should be treated as read only. "
   ]
  },
  {
   "cell_type": "code",
   "execution_count": 2,
   "metadata": {},
   "outputs": [
    {
     "data": {
      "text/plain": [
       "{'Node Count': 40,\n",
       " 'Lower Froude': 0.75,\n",
       " 'Upper Froude': 0.9,\n",
       " 'Min Depth': 0.1,\n",
       " 'Convergence Direct': 0.001,\n",
       " 'Units': 'DEFAULT',\n",
       " 'Water Temperature': 10.0,\n",
       " 'Convergence Flow': 0.01,\n",
       " 'Convergence Head': 0.01,\n",
       " 'Mathematical Damping': 0.7,\n",
       " 'Pivotal Choice': 0.1,\n",
       " 'Under-relaxation': 0.7,\n",
       " 'Matrix Dummy': 0.0,\n",
       " 'RAD File': ''}"
      ]
     },
     "execution_count": 2,
     "metadata": {},
     "output_type": "execute_result"
    }
   ],
   "source": [
    "ex3_dat.general_parameters"
   ]
  },
  {
   "attachments": {},
   "cell_type": "markdown",
   "metadata": {},
   "source": [
    "Let's see what's in the network file. The various units can be accessed via the attributes \"`.sections .conduits .structures .boundaries .losses`\" This dat file only contains rivers, a bridge and two boundaries units. Lets have a look at what information we have in the sections data."
   ]
  },
  {
   "cell_type": "code",
   "execution_count": 3,
   "metadata": {},
   "outputs": [
    {
     "data": {
      "text/plain": [
       "{'m60': <floodmodeller_api Unit Class: RIVER(name=m60, type=SECTION)>,\n",
       " 'm40': <floodmodeller_api Unit Class: RIVER(name=m40, type=SECTION)>,\n",
       " 'm20': <floodmodeller_api Unit Class: RIVER(name=m20, type=SECTION)>,\n",
       " '0': <floodmodeller_api Unit Class: RIVER(name=0, type=SECTION)>,\n",
       " '20': <floodmodeller_api Unit Class: RIVER(name=20, type=SECTION)>,\n",
       " '40': <floodmodeller_api Unit Class: RIVER(name=40, type=SECTION)>,\n",
       " '60': <floodmodeller_api Unit Class: RIVER(name=60, type=SECTION)>,\n",
       " '80': <floodmodeller_api Unit Class: RIVER(name=80, type=SECTION)>,\n",
       " 'BRIDU': <floodmodeller_api Unit Class: RIVER(name=BRIDU, type=SECTION)>,\n",
       " 'BRIDD': <floodmodeller_api Unit Class: RIVER(name=BRIDD, type=SECTION)>,\n",
       " '120': <floodmodeller_api Unit Class: RIVER(name=120, type=SECTION)>,\n",
       " '140': <floodmodeller_api Unit Class: RIVER(name=140, type=SECTION)>,\n",
       " '160': <floodmodeller_api Unit Class: RIVER(name=160, type=SECTION)>,\n",
       " '180': <floodmodeller_api Unit Class: RIVER(name=180, type=SECTION)>,\n",
       " '200': <floodmodeller_api Unit Class: RIVER(name=200, type=SECTION)>,\n",
       " '220': <floodmodeller_api Unit Class: RIVER(name=220, type=SECTION)>,\n",
       " '240': <floodmodeller_api Unit Class: RIVER(name=240, type=SECTION)>,\n",
       " '260': <floodmodeller_api Unit Class: RIVER(name=260, type=SECTION)>,\n",
       " '280': <floodmodeller_api Unit Class: RIVER(name=280, type=SECTION)>,\n",
       " '300': <floodmodeller_api Unit Class: RIVER(name=300, type=SECTION)>,\n",
       " '320': <floodmodeller_api Unit Class: RIVER(name=320, type=SECTION)>,\n",
       " '340': <floodmodeller_api Unit Class: RIVER(name=340, type=SECTION)>,\n",
       " '360': <floodmodeller_api Unit Class: RIVER(name=360, type=SECTION)>,\n",
       " '380': <floodmodeller_api Unit Class: RIVER(name=380, type=SECTION)>,\n",
       " '400': <floodmodeller_api Unit Class: RIVER(name=400, type=SECTION)>,\n",
       " '420': <floodmodeller_api Unit Class: RIVER(name=420, type=SECTION)>,\n",
       " '440': <floodmodeller_api Unit Class: RIVER(name=440, type=SECTION)>,\n",
       " '460': <floodmodeller_api Unit Class: RIVER(name=460, type=SECTION)>,\n",
       " '480': <floodmodeller_api Unit Class: RIVER(name=480, type=SECTION)>,\n",
       " '500': <floodmodeller_api Unit Class: RIVER(name=500, type=SECTION)>,\n",
       " '520': <floodmodeller_api Unit Class: RIVER(name=520, type=SECTION)>,\n",
       " '540': <floodmodeller_api Unit Class: RIVER(name=540, type=SECTION)>,\n",
       " '560': <floodmodeller_api Unit Class: RIVER(name=560, type=SECTION)>,\n",
       " '580': <floodmodeller_api Unit Class: RIVER(name=580, type=SECTION)>,\n",
       " '600': <floodmodeller_api Unit Class: RIVER(name=600, type=SECTION)>,\n",
       " '620': <floodmodeller_api Unit Class: RIVER(name=620, type=SECTION)>,\n",
       " '640': <floodmodeller_api Unit Class: RIVER(name=640, type=SECTION)>,\n",
       " '660': <floodmodeller_api Unit Class: RIVER(name=660, type=SECTION)>,\n",
       " '680': <floodmodeller_api Unit Class: RIVER(name=680, type=SECTION)>,\n",
       " '700': <floodmodeller_api Unit Class: RIVER(name=700, type=SECTION)>}"
      ]
     },
     "execution_count": 3,
     "metadata": {},
     "output_type": "execute_result"
    }
   ],
   "source": [
    "ex3_dat.sections"
   ]
  },
  {
   "attachments": {},
   "cell_type": "markdown",
   "metadata": {},
   "source": [
    "Each individual unit class is somewhat unique in how they can be worked with in python, but generally most unit classes will have a .name, .comment and .data attribute. For example, a RIVER unit class contains the full section data as a dataframe:"
   ]
  },
  {
   "cell_type": "code",
   "execution_count": 27,
   "metadata": {},
   "outputs": [
    {
     "data": {
      "text/html": [
       "<div>\n",
       "<style scoped>\n",
       "    .dataframe tbody tr th:only-of-type {\n",
       "        vertical-align: middle;\n",
       "    }\n",
       "\n",
       "    .dataframe tbody tr th {\n",
       "        vertical-align: top;\n",
       "    }\n",
       "\n",
       "    .dataframe thead th {\n",
       "        text-align: right;\n",
       "    }\n",
       "</style>\n",
       "<table border=\"1\" class=\"dataframe\">\n",
       "  <thead>\n",
       "    <tr style=\"text-align: right;\">\n",
       "      <th></th>\n",
       "      <th>X</th>\n",
       "      <th>Y</th>\n",
       "      <th>Mannings n</th>\n",
       "      <th>Panel</th>\n",
       "      <th>RPL</th>\n",
       "      <th>Marker</th>\n",
       "      <th>Easting</th>\n",
       "      <th>Northing</th>\n",
       "      <th>Deactivation</th>\n",
       "      <th>SP. Marker</th>\n",
       "    </tr>\n",
       "  </thead>\n",
       "  <tbody>\n",
       "    <tr>\n",
       "      <th>0</th>\n",
       "      <td>-31.667</td>\n",
       "      <td>10.326</td>\n",
       "      <td>0.04</td>\n",
       "      <td>False</td>\n",
       "      <td>1.0</td>\n",
       "      <td></td>\n",
       "      <td>0.0</td>\n",
       "      <td>0.0</td>\n",
       "      <td></td>\n",
       "      <td>0</td>\n",
       "    </tr>\n",
       "    <tr>\n",
       "      <th>1</th>\n",
       "      <td>-29.221</td>\n",
       "      <td>12.000</td>\n",
       "      <td>0.04</td>\n",
       "      <td>False</td>\n",
       "      <td>1.0</td>\n",
       "      <td></td>\n",
       "      <td>0.0</td>\n",
       "      <td>0.0</td>\n",
       "      <td></td>\n",
       "      <td>0</td>\n",
       "    </tr>\n",
       "    <tr>\n",
       "      <th>2</th>\n",
       "      <td>-28.070</td>\n",
       "      <td>12.000</td>\n",
       "      <td>0.04</td>\n",
       "      <td>False</td>\n",
       "      <td>1.0</td>\n",
       "      <td></td>\n",
       "      <td>0.0</td>\n",
       "      <td>0.0</td>\n",
       "      <td></td>\n",
       "      <td>0</td>\n",
       "    </tr>\n",
       "    <tr>\n",
       "      <th>3</th>\n",
       "      <td>-26.191</td>\n",
       "      <td>10.713</td>\n",
       "      <td>0.04</td>\n",
       "      <td>False</td>\n",
       "      <td>1.0</td>\n",
       "      <td></td>\n",
       "      <td>0.0</td>\n",
       "      <td>0.0</td>\n",
       "      <td></td>\n",
       "      <td>0</td>\n",
       "    </tr>\n",
       "    <tr>\n",
       "      <th>4</th>\n",
       "      <td>-12.375</td>\n",
       "      <td>10.591</td>\n",
       "      <td>0.04</td>\n",
       "      <td>False</td>\n",
       "      <td>1.0</td>\n",
       "      <td></td>\n",
       "      <td>0.0</td>\n",
       "      <td>0.0</td>\n",
       "      <td></td>\n",
       "      <td>0</td>\n",
       "    </tr>\n",
       "    <tr>\n",
       "      <th>5</th>\n",
       "      <td>-7.815</td>\n",
       "      <td>8.311</td>\n",
       "      <td>0.04</td>\n",
       "      <td>False</td>\n",
       "      <td>1.0</td>\n",
       "      <td></td>\n",
       "      <td>0.0</td>\n",
       "      <td>0.0</td>\n",
       "      <td></td>\n",
       "      <td>0</td>\n",
       "    </tr>\n",
       "    <tr>\n",
       "      <th>6</th>\n",
       "      <td>20.901</td>\n",
       "      <td>8.361</td>\n",
       "      <td>0.04</td>\n",
       "      <td>False</td>\n",
       "      <td>1.0</td>\n",
       "      <td></td>\n",
       "      <td>0.0</td>\n",
       "      <td>0.0</td>\n",
       "      <td></td>\n",
       "      <td>0</td>\n",
       "    </tr>\n",
       "    <tr>\n",
       "      <th>7</th>\n",
       "      <td>21.908</td>\n",
       "      <td>10.880</td>\n",
       "      <td>0.04</td>\n",
       "      <td>False</td>\n",
       "      <td>1.0</td>\n",
       "      <td></td>\n",
       "      <td>0.0</td>\n",
       "      <td>0.0</td>\n",
       "      <td></td>\n",
       "      <td>0</td>\n",
       "    </tr>\n",
       "    <tr>\n",
       "      <th>8</th>\n",
       "      <td>180.716</td>\n",
       "      <td>9.966</td>\n",
       "      <td>0.04</td>\n",
       "      <td>False</td>\n",
       "      <td>1.0</td>\n",
       "      <td></td>\n",
       "      <td>0.0</td>\n",
       "      <td>0.0</td>\n",
       "      <td></td>\n",
       "      <td>0</td>\n",
       "    </tr>\n",
       "    <tr>\n",
       "      <th>9</th>\n",
       "      <td>194.089</td>\n",
       "      <td>12.290</td>\n",
       "      <td>0.04</td>\n",
       "      <td>False</td>\n",
       "      <td>1.0</td>\n",
       "      <td></td>\n",
       "      <td>0.0</td>\n",
       "      <td>0.0</td>\n",
       "      <td></td>\n",
       "      <td>0</td>\n",
       "    </tr>\n",
       "  </tbody>\n",
       "</table>\n",
       "</div>"
      ],
      "text/plain": [
       "         X       Y  Mannings n  Panel  RPL Marker  Easting  Northing  \\\n",
       "0  -31.667  10.326        0.04  False  1.0             0.0       0.0   \n",
       "1  -29.221  12.000        0.04  False  1.0             0.0       0.0   \n",
       "2  -28.070  12.000        0.04  False  1.0             0.0       0.0   \n",
       "3  -26.191  10.713        0.04  False  1.0             0.0       0.0   \n",
       "4  -12.375  10.591        0.04  False  1.0             0.0       0.0   \n",
       "5   -7.815   8.311        0.04  False  1.0             0.0       0.0   \n",
       "6   20.901   8.361        0.04  False  1.0             0.0       0.0   \n",
       "7   21.908  10.880        0.04  False  1.0             0.0       0.0   \n",
       "8  180.716   9.966        0.04  False  1.0             0.0       0.0   \n",
       "9  194.089  12.290        0.04  False  1.0             0.0       0.0   \n",
       "\n",
       "  Deactivation  SP. Marker  \n",
       "0                        0  \n",
       "1                        0  \n",
       "2                        0  \n",
       "3                        0  \n",
       "4                        0  \n",
       "5                        0  \n",
       "6                        0  \n",
       "7                        0  \n",
       "8                        0  \n",
       "9                        0  "
      ]
     },
     "execution_count": 27,
     "metadata": {},
     "output_type": "execute_result"
    }
   ],
   "source": [
    "ex3_dat.sections['620'].data"
   ]
  },
  {
   "cell_type": "code",
   "execution_count": 5,
   "metadata": {},
   "outputs": [
    {
     "name": "stdout",
     "output_type": "stream",
     "text": [
      "20.0\n"
     ]
    }
   ],
   "source": [
    "print(ex3_dat.sections['620'].dist_to_next) # print the distance to next section for river section '620'"
   ]
  },
  {
   "attachments": {},
   "cell_type": "markdown",
   "metadata": {},
   "source": [
    "You can manipulate many different aspects of the dat file such as the data for each cross section. This information is saved in a pandas dataframe.   \n",
    "* see https://www.w3schools.com/python/pandas/default.asp for more on pandas and dataframes)   \n",
    "\n",
    "\n",
    "Similarly to with list slicing, we can manipulate a subsection of the data using the `iloc` method where the square brackets reference ['row','column'].   \n",
    "The following cell looks at the section data for the river unit 620 and updates the mannings n value to 0.1 for the fourth to seventh row.  "
   ]
  },
  {
   "cell_type": "code",
   "execution_count": 31,
   "metadata": {},
   "outputs": [
    {
     "data": {
      "text/html": [
       "<div>\n",
       "<style scoped>\n",
       "    .dataframe tbody tr th:only-of-type {\n",
       "        vertical-align: middle;\n",
       "    }\n",
       "\n",
       "    .dataframe tbody tr th {\n",
       "        vertical-align: top;\n",
       "    }\n",
       "\n",
       "    .dataframe thead th {\n",
       "        text-align: right;\n",
       "    }\n",
       "</style>\n",
       "<table border=\"1\" class=\"dataframe\">\n",
       "  <thead>\n",
       "    <tr style=\"text-align: right;\">\n",
       "      <th></th>\n",
       "      <th>X</th>\n",
       "      <th>Y</th>\n",
       "      <th>Mannings n</th>\n",
       "      <th>Panel</th>\n",
       "      <th>RPL</th>\n",
       "      <th>Marker</th>\n",
       "      <th>Easting</th>\n",
       "      <th>Northing</th>\n",
       "      <th>Deactivation</th>\n",
       "      <th>SP. Marker</th>\n",
       "    </tr>\n",
       "  </thead>\n",
       "  <tbody>\n",
       "    <tr>\n",
       "      <th>0</th>\n",
       "      <td>-31.667</td>\n",
       "      <td>10.326</td>\n",
       "      <td>0.04</td>\n",
       "      <td>False</td>\n",
       "      <td>1.0</td>\n",
       "      <td></td>\n",
       "      <td>0.0</td>\n",
       "      <td>0.0</td>\n",
       "      <td></td>\n",
       "      <td>0</td>\n",
       "    </tr>\n",
       "    <tr>\n",
       "      <th>1</th>\n",
       "      <td>-29.221</td>\n",
       "      <td>12.000</td>\n",
       "      <td>0.04</td>\n",
       "      <td>False</td>\n",
       "      <td>1.0</td>\n",
       "      <td></td>\n",
       "      <td>0.0</td>\n",
       "      <td>0.0</td>\n",
       "      <td></td>\n",
       "      <td>0</td>\n",
       "    </tr>\n",
       "    <tr>\n",
       "      <th>2</th>\n",
       "      <td>-28.070</td>\n",
       "      <td>12.000</td>\n",
       "      <td>0.04</td>\n",
       "      <td>False</td>\n",
       "      <td>1.0</td>\n",
       "      <td></td>\n",
       "      <td>0.0</td>\n",
       "      <td>0.0</td>\n",
       "      <td></td>\n",
       "      <td>0</td>\n",
       "    </tr>\n",
       "    <tr>\n",
       "      <th>3</th>\n",
       "      <td>-26.191</td>\n",
       "      <td>10.713</td>\n",
       "      <td>0.10</td>\n",
       "      <td>False</td>\n",
       "      <td>1.0</td>\n",
       "      <td></td>\n",
       "      <td>0.0</td>\n",
       "      <td>0.0</td>\n",
       "      <td></td>\n",
       "      <td>0</td>\n",
       "    </tr>\n",
       "    <tr>\n",
       "      <th>4</th>\n",
       "      <td>-12.375</td>\n",
       "      <td>10.591</td>\n",
       "      <td>0.10</td>\n",
       "      <td>False</td>\n",
       "      <td>1.0</td>\n",
       "      <td></td>\n",
       "      <td>0.0</td>\n",
       "      <td>0.0</td>\n",
       "      <td></td>\n",
       "      <td>0</td>\n",
       "    </tr>\n",
       "    <tr>\n",
       "      <th>5</th>\n",
       "      <td>-7.815</td>\n",
       "      <td>8.311</td>\n",
       "      <td>0.10</td>\n",
       "      <td>False</td>\n",
       "      <td>1.0</td>\n",
       "      <td></td>\n",
       "      <td>0.0</td>\n",
       "      <td>0.0</td>\n",
       "      <td></td>\n",
       "      <td>0</td>\n",
       "    </tr>\n",
       "    <tr>\n",
       "      <th>6</th>\n",
       "      <td>20.901</td>\n",
       "      <td>8.361</td>\n",
       "      <td>0.04</td>\n",
       "      <td>False</td>\n",
       "      <td>1.0</td>\n",
       "      <td></td>\n",
       "      <td>0.0</td>\n",
       "      <td>0.0</td>\n",
       "      <td></td>\n",
       "      <td>0</td>\n",
       "    </tr>\n",
       "    <tr>\n",
       "      <th>7</th>\n",
       "      <td>21.908</td>\n",
       "      <td>10.880</td>\n",
       "      <td>0.04</td>\n",
       "      <td>False</td>\n",
       "      <td>1.0</td>\n",
       "      <td></td>\n",
       "      <td>0.0</td>\n",
       "      <td>0.0</td>\n",
       "      <td></td>\n",
       "      <td>0</td>\n",
       "    </tr>\n",
       "    <tr>\n",
       "      <th>8</th>\n",
       "      <td>180.716</td>\n",
       "      <td>9.966</td>\n",
       "      <td>0.04</td>\n",
       "      <td>False</td>\n",
       "      <td>1.0</td>\n",
       "      <td></td>\n",
       "      <td>0.0</td>\n",
       "      <td>0.0</td>\n",
       "      <td></td>\n",
       "      <td>0</td>\n",
       "    </tr>\n",
       "    <tr>\n",
       "      <th>9</th>\n",
       "      <td>194.089</td>\n",
       "      <td>12.290</td>\n",
       "      <td>0.04</td>\n",
       "      <td>False</td>\n",
       "      <td>1.0</td>\n",
       "      <td></td>\n",
       "      <td>0.0</td>\n",
       "      <td>0.0</td>\n",
       "      <td></td>\n",
       "      <td>0</td>\n",
       "    </tr>\n",
       "  </tbody>\n",
       "</table>\n",
       "</div>"
      ],
      "text/plain": [
       "         X       Y  Mannings n  Panel  RPL Marker  Easting  Northing  \\\n",
       "0  -31.667  10.326        0.04  False  1.0             0.0       0.0   \n",
       "1  -29.221  12.000        0.04  False  1.0             0.0       0.0   \n",
       "2  -28.070  12.000        0.04  False  1.0             0.0       0.0   \n",
       "3  -26.191  10.713        0.10  False  1.0             0.0       0.0   \n",
       "4  -12.375  10.591        0.10  False  1.0             0.0       0.0   \n",
       "5   -7.815   8.311        0.10  False  1.0             0.0       0.0   \n",
       "6   20.901   8.361        0.04  False  1.0             0.0       0.0   \n",
       "7   21.908  10.880        0.04  False  1.0             0.0       0.0   \n",
       "8  180.716   9.966        0.04  False  1.0             0.0       0.0   \n",
       "9  194.089  12.290        0.04  False  1.0             0.0       0.0   \n",
       "\n",
       "  Deactivation  SP. Marker  \n",
       "0                        0  \n",
       "1                        0  \n",
       "2                        0  \n",
       "3                        0  \n",
       "4                        0  \n",
       "5                        0  \n",
       "6                        0  \n",
       "7                        0  \n",
       "8                        0  \n",
       "9                        0  "
      ]
     },
     "execution_count": 31,
     "metadata": {},
     "output_type": "execute_result"
    }
   ],
   "source": [
    "ex3_dat.sections['620'].data.iloc[3:6, 2] = 0.1     \n",
    "ex3_dat.sections['620'].data"
   ]
  },
  {
   "attachments": {},
   "cell_type": "markdown",
   "metadata": {},
   "source": [
    "#### Walk-through excercise: Inserting a copied unit\n",
    "\n",
    "Let's explore some of the various things you can accomplish with the Flood modeller API.   \n",
    "\n",
    "Lets stick in a new cross section 10m downstream from 620 at 630.  \n",
    "We'll need to first update the distance to next at 620, create a copy of the updated 620 unit, update the name and comment of the new unit and then add it back into the dat file in the correct location."
   ]
  },
  {
   "cell_type": "code",
   "execution_count": 33,
   "metadata": {},
   "outputs": [],
   "source": [
    "ex3_dat.sections['620'].dist_to_next = 10.0 # Update the distance to next section to 10m"
   ]
  },
  {
   "attachments": {},
   "cell_type": "markdown",
   "metadata": {},
   "source": [
    "We can copy objects in python and make changes to these however as we wish to create a copy of 620 and then update the information within the new 630 unit whilst keeping our original 620, a deepcopy will be best as this allows our new 630 unit to be saved to a new memory location and therefore we won't be overwriting the 620 unit.  \n",
    "We can then make changes to both 630 and 620 without one affecting the other. Importing the `copy` module and calling `copy.deepcopy` will allow us to do this. "
   ]
  },
  {
   "cell_type": "code",
   "execution_count": 34,
   "metadata": {},
   "outputs": [
    {
     "name": "stdout",
     "output_type": "stream",
     "text": [
      "620\n"
     ]
    }
   ],
   "source": [
    "import copy \n",
    "\n",
    "unit_630 = copy.deepcopy(ex3_dat.sections['620']) #make a copy of the upstream node and save it as unit_630\n",
    "print(unit_630.name)"
   ]
  },
  {
   "cell_type": "code",
   "execution_count": 35,
   "metadata": {},
   "outputs": [
    {
     "name": "stdout",
     "output_type": "stream",
     "text": [
      "630\n"
     ]
    }
   ],
   "source": [
    "unit_630.name = '630' #assign the new name for our unit\n",
    "print(unit_630.name)"
   ]
  },
  {
   "cell_type": "code",
   "execution_count": 36,
   "metadata": {},
   "outputs": [
    {
     "data": {
      "text/plain": [
       "'copy of upstream XS'"
      ]
     },
     "execution_count": 36,
     "metadata": {},
     "output_type": "execute_result"
    }
   ],
   "source": [
    "unit_630.comment = 'copy of upstream XS' #update the comment to reflect the origin of this cross section\n",
    "unit_630.comment"
   ]
  },
  {
   "cell_type": "code",
   "execution_count": 37,
   "metadata": {},
   "outputs": [
    {
     "name": "stdout",
     "output_type": "stream",
     "text": [
      "RIVER 620.000    0.040\n",
      "SECTION\n",
      "620                                                                                 \n",
      "    10.000            0.000100  1000.000\n",
      "        10\n",
      "   -31.667    10.326     0.040     1.000               0.000     0.000                   0\n",
      "   -29.221    12.000     0.040     1.000               0.000     0.000                   0\n",
      "   -28.070    12.000     0.040     1.000               0.000     0.000                   0\n",
      "   -26.191    10.713     0.100     1.000               0.000     0.000                   0\n",
      "   -12.375    10.591     0.100     1.000               0.000     0.000                   0\n",
      "    -7.815     8.311     0.100     1.000               0.000     0.000                   0\n",
      "    20.901     8.361     0.040     1.000               0.000     0.000                   0\n",
      "    21.908    10.880     0.040     1.000               0.000     0.000                   0\n",
      "   180.716     9.966     0.040     1.000               0.000     0.000                   0\n",
      "   194.089    12.290     0.040     1.000               0.000     0.000                   0\n",
      "RIVER copy of upstream XS\n",
      "SECTION\n",
      "630                                                                                 \n",
      "    10.000            0.000100  1000.000\n",
      "        10\n",
      "   -31.667    10.326     0.040     1.000               0.000     0.000                   0\n",
      "   -29.221    12.000     0.040     1.000               0.000     0.000                   0\n",
      "   -28.070    12.000     0.040     1.000               0.000     0.000                   0\n",
      "   -26.191    10.713     0.100     1.000               0.000     0.000                   0\n",
      "   -12.375    10.591     0.100     1.000               0.000     0.000                   0\n",
      "    -7.815     8.311     0.100     1.000               0.000     0.000                   0\n",
      "    20.901     8.361     0.040     1.000               0.000     0.000                   0\n",
      "    21.908    10.880     0.040     1.000               0.000     0.000                   0\n",
      "   180.716     9.966     0.040     1.000               0.000     0.000                   0\n",
      "   194.089    12.290     0.040     1.000               0.000     0.000                   0\n"
     ]
    }
   ],
   "source": [
    "print(ex3_dat.sections['620']) #lets have a look at both units side by side to view how these differ \n",
    "print(unit_630)"
   ]
  },
  {
   "cell_type": "code",
   "execution_count": 38,
   "metadata": {},
   "outputs": [
    {
     "data": {
      "text/plain": [
       "{'m60': <floodmodeller_api Unit Class: RIVER(name=m60, type=SECTION)>,\n",
       " 'm40': <floodmodeller_api Unit Class: RIVER(name=m40, type=SECTION)>,\n",
       " 'm20': <floodmodeller_api Unit Class: RIVER(name=m20, type=SECTION)>,\n",
       " '0': <floodmodeller_api Unit Class: RIVER(name=0, type=SECTION)>,\n",
       " '20': <floodmodeller_api Unit Class: RIVER(name=20, type=SECTION)>,\n",
       " '40': <floodmodeller_api Unit Class: RIVER(name=40, type=SECTION)>,\n",
       " '60': <floodmodeller_api Unit Class: RIVER(name=60, type=SECTION)>,\n",
       " '80': <floodmodeller_api Unit Class: RIVER(name=80, type=SECTION)>,\n",
       " 'BRIDU': <floodmodeller_api Unit Class: RIVER(name=BRIDU, type=SECTION)>,\n",
       " 'BRIDD': <floodmodeller_api Unit Class: RIVER(name=BRIDD, type=SECTION)>,\n",
       " '120': <floodmodeller_api Unit Class: RIVER(name=120, type=SECTION)>,\n",
       " '140': <floodmodeller_api Unit Class: RIVER(name=140, type=SECTION)>,\n",
       " '160': <floodmodeller_api Unit Class: RIVER(name=160, type=SECTION)>,\n",
       " '180': <floodmodeller_api Unit Class: RIVER(name=180, type=SECTION)>,\n",
       " '200': <floodmodeller_api Unit Class: RIVER(name=200, type=SECTION)>,\n",
       " '220': <floodmodeller_api Unit Class: RIVER(name=220, type=SECTION)>,\n",
       " '240': <floodmodeller_api Unit Class: RIVER(name=240, type=SECTION)>,\n",
       " '260': <floodmodeller_api Unit Class: RIVER(name=260, type=SECTION)>,\n",
       " '280': <floodmodeller_api Unit Class: RIVER(name=280, type=SECTION)>,\n",
       " '300': <floodmodeller_api Unit Class: RIVER(name=300, type=SECTION)>,\n",
       " '320': <floodmodeller_api Unit Class: RIVER(name=320, type=SECTION)>,\n",
       " '340': <floodmodeller_api Unit Class: RIVER(name=340, type=SECTION)>,\n",
       " '360': <floodmodeller_api Unit Class: RIVER(name=360, type=SECTION)>,\n",
       " '380': <floodmodeller_api Unit Class: RIVER(name=380, type=SECTION)>,\n",
       " '400': <floodmodeller_api Unit Class: RIVER(name=400, type=SECTION)>,\n",
       " '420': <floodmodeller_api Unit Class: RIVER(name=420, type=SECTION)>,\n",
       " '440': <floodmodeller_api Unit Class: RIVER(name=440, type=SECTION)>,\n",
       " '460': <floodmodeller_api Unit Class: RIVER(name=460, type=SECTION)>,\n",
       " '480': <floodmodeller_api Unit Class: RIVER(name=480, type=SECTION)>,\n",
       " '500': <floodmodeller_api Unit Class: RIVER(name=500, type=SECTION)>,\n",
       " '520': <floodmodeller_api Unit Class: RIVER(name=520, type=SECTION)>,\n",
       " '540': <floodmodeller_api Unit Class: RIVER(name=540, type=SECTION)>,\n",
       " '560': <floodmodeller_api Unit Class: RIVER(name=560, type=SECTION)>,\n",
       " '580': <floodmodeller_api Unit Class: RIVER(name=580, type=SECTION)>,\n",
       " '600': <floodmodeller_api Unit Class: RIVER(name=600, type=SECTION)>,\n",
       " '620': <floodmodeller_api Unit Class: RIVER(name=620, type=SECTION)>,\n",
       " '640': <floodmodeller_api Unit Class: RIVER(name=640, type=SECTION)>,\n",
       " '660': <floodmodeller_api Unit Class: RIVER(name=660, type=SECTION)>,\n",
       " '680': <floodmodeller_api Unit Class: RIVER(name=680, type=SECTION)>,\n",
       " '700': <floodmodeller_api Unit Class: RIVER(name=700, type=SECTION)>,\n",
       " '630': <floodmodeller_api Unit Class: RIVER(name=630, type=SECTION)>}"
      ]
     },
     "execution_count": 38,
     "metadata": {},
     "output_type": "execute_result"
    }
   ],
   "source": [
    "ex3_dat.insert_unit(unit_630, add_after = ex3_dat.sections['620']) #insert unit after 620\n",
    "\n",
    "ex3_dat.sections"
   ]
  },
  {
   "cell_type": "code",
   "execution_count": null,
   "metadata": {},
   "outputs": [],
   "source": [
    "# check that 630 is after 640\n",
    "ex3_dat.next(ex3_dat.sections['620'])"
   ]
  },
  {
   "cell_type": "code",
   "execution_count": 32,
   "metadata": {},
   "outputs": [
    {
     "name": "stdout",
     "output_type": "stream",
     "text": [
      "DAT File Saved to: c:\\Users\\LAMBERD3\\Documents\\Python\\Flood_modeller_git\\floodmodeller-api\\demo\\data\\EX4.DAT\n"
     ]
    }
   ],
   "source": [
    "#save the new dat file - note you can overwrite the current dat file if you give the same file path as the current dat file.\n",
    "ex3_dat.save(\"data/EX4.DAT\")"
   ]
  },
  {
   "attachments": {},
   "cell_type": "markdown",
   "metadata": {},
   "source": [
    "#### Using and saving your own data\n",
    "\n",
    "On the left of your screen, you should be able to see the explorer tab represented by an icon of two sheets. In here, your new file \"EX4.dat\" should have appeared under demo > data.    \n",
    "You can also right click on a file and save it this way.   \n",
    "\n",
    "You can also drag and drop any other file into the relevant space within the file explorer which you can then use within this codespace. This won't make your data public, it will still be private and secure to your github account.   \n",
    "\n",
    "You can have a go at reading your own data in, make some changes and then save your updated file by `.save()` \n",
    "\n",
    "* Load your data into the file explorer on the left\n",
    "* Make some changes to your file and save them."
   ]
  },
  {
   "cell_type": "code",
   "execution_count": null,
   "metadata": {},
   "outputs": [],
   "source": [
    "# Have a go here! "
   ]
  },
  {
   "attachments": {},
   "cell_type": "markdown",
   "metadata": {},
   "source": [
    "#### Other tasks with the DAT class\n",
    "\n",
    "* Can you update the bed levels?\n",
    "* Plot a graph of the x/y data? \n",
    "* How about looking at the bridge structure? you can look into the name, comment, ds-label, us_remote_label, ds_remote_label and the subtype?\n",
    "* What is the type of the boundary units?\n"
   ]
  },
  {
   "cell_type": "code",
   "execution_count": null,
   "metadata": {},
   "outputs": [],
   "source": [
    "# Have a go here!\n"
   ]
  }
 ],
 "metadata": {
  "kernelspec": {
   "display_name": "Python 3",
   "language": "python",
   "name": "python3"
  },
  "language_info": {
   "codemirror_mode": {
    "name": "ipython",
    "version": 3
   },
   "file_extension": ".py",
   "mimetype": "text/x-python",
   "name": "python",
   "nbconvert_exporter": "python",
   "pygments_lexer": "ipython3",
   "version": "3.11.0"
  },
  "orig_nbformat": 4,
  "vscode": {
   "interpreter": {
    "hash": "969e6a634f736d42dd195af11f0b94d0537b8d2b35fe68298e3b384d9719896b"
   }
  }
 },
 "nbformat": 4,
 "nbformat_minor": 2
}

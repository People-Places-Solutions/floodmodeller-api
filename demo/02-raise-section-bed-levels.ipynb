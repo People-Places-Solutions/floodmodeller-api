{
 "cells": [
  {
   "attachments": {},
   "cell_type": "markdown",
   "metadata": {},
   "source": [
    "# Raising Section Bed Levels\n",
    "<hr>"
   ]
  },
  {
   "attachments": {},
   "cell_type": "markdown",
   "metadata": {},
   "source": [
    "This sample script shows how you could raise the minimum bed level 300mm across all sections in a DAT file (i.e siltation) "
   ]
  },
  {
   "attachments": {},
   "cell_type": "markdown",
   "metadata": {},
   "source": [
    "## Set Up"
   ]
  },
  {
   "cell_type": "code",
   "execution_count": null,
   "metadata": {},
   "outputs": [],
   "source": [
    "# Import modules\n",
    "import sys\n",
    "import os\n",
    "from pathlib import Path\n",
    "try:\n",
    "    from floodmodeller_api import DAT\n",
    "except ImportError:\n",
    "    print('Import failed - Please ensure you have correctly installed floodmodeller_api to your active environment')\n",
    "    sys.exit()\n",
    "\n",
    "script_loc = Path(__file__).resolve().parent\n",
    "os.chdir(script_loc) # Set current working directory to this script location\n",
    "\n",
    "\n"
   ]
  },
  {
   "attachments": {},
   "cell_type": "markdown",
   "metadata": {},
   "source": [
    "## Loading a DAT"
   ]
  },
  {
   "cell_type": "code",
   "execution_count": null,
   "metadata": {},
   "outputs": [],
   "source": [
    "dat = DAT(\"sample_data//ex3.dat\") # Initialise DAT class\n",
    "dat"
   ]
  },
  {
   "attachments": {},
   "cell_type": "markdown",
   "metadata": {},
   "source": [
    "## Raising bed levels"
   ]
  },
  {
   "cell_type": "code",
   "execution_count": null,
   "metadata": {},
   "outputs": [],
   "source": [
    "for name, section in dat.sections.items(): # iterate through all river sections\n",
    "    df = section.data # get section data\n",
    "    min_elevation = df['Y'].min() # get minimum cross section elevation\n",
    "    raised_bed = min_elevation + 0.3 # define new lowest bed level (+300mm)\n",
    "    df.loc[df['Y'] < raised_bed, 'Y'] = raised_bed # Raise any levels lower than this to the new lowest level\n"
   ]
  },
  {
   "attachments": {},
   "cell_type": "markdown",
   "metadata": {},
   "source": [
    "## Saving the file"
   ]
  },
  {
   "cell_type": "code",
   "execution_count": null,
   "metadata": {},
   "outputs": [],
   "source": [
    "dat.save(\"sample_data\\\\ex3_300m_siltation.dat\") # save updates "
   ]
  }
 ],
 "metadata": {
  "kernelspec": {
   "display_name": "fm-api",
   "language": "python",
   "name": "python3"
  },
  "language_info": {
   "name": "python",
   "version": "3.11.0"
  },
  "orig_nbformat": 4
 },
 "nbformat": 4,
 "nbformat_minor": 2
}
